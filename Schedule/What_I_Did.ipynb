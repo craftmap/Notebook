{
 "cells": [
  {
   "cell_type": "markdown",
   "metadata": {},
   "source": [
    "# What I Did Today\n",
    "\n",
    "## Week of the 17th\n",
    "\n",
    "  - Spent a lot of time setting up my Mac and getting StarCCM+ running on it\n",
    "  \n",
    "9/20/18:\n",
    " - Got Lindsay setup to run experiments\n",
    " - Finished getting StarCCM+ running on VMware and on Laptop\n",
    " - Got Jupyter Notebooks and Slack going on new laptop\n",
    " \n",
    " Results: Reach out to guy for info on wind tunnel pito setup\n",
    " \n",
    "9/21/18:\n",
    " - Worked through the syntax error in StarCCM+ with Eduardo\n",
    " - Got refinement criterion working\n",
    " \n",
    " Results: The error was with $ \\$ $ denoting a scalar and $ \\$\\$ $  denoting a vector\n",
    " \n",
    "## Weeek of the 24th\n",
    "GOALS\n",
    "    - Formulate multiple criteria\n",
    "    - Define test case\n",
    "    - Run full lift convergence test on each criteria\n",
    "    - Determine best refinement criterion to apply to 3D simulation\n",
    "9/24/18:\n",
    "    - s\n",
    " "
   ]
  }
 ],
 "metadata": {
  "kernelspec": {
   "display_name": "Python 3",
   "language": "python",
   "name": "python3"
  },
  "language_info": {
   "codemirror_mode": {
    "name": "ipython",
    "version": 3
   },
   "file_extension": ".py",
   "mimetype": "text/x-python",
   "name": "python",
   "nbconvert_exporter": "python",
   "pygments_lexer": "ipython3",
   "version": "3.7.0"
  }
 },
 "nbformat": 4,
 "nbformat_minor": 2
}
