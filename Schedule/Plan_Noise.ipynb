{
 "cells": [
  {
   "cell_type": "markdown",
   "metadata": {},
   "source": [
    "# Master Plan"
   ]
  },
  {
   "cell_type": "markdown",
   "metadata": {},
   "source": [
    "## Research Directions"
   ]
  },
  {
   "cell_type": "markdown",
   "metadata": {},
   "source": [
    "### Surrogate Model"
   ]
  },
  {
   "cell_type": "markdown",
   "metadata": {},
   "source": [
    "this is my awesome cell!\n",
    "\n",
    "\\begin{equation}\n",
    "    c = \\sqrt{a^2 + b^2}\n",
    "\\end{equation}\n"
   ]
  },
  {
   "cell_type": "markdown",
   "metadata": {},
   "source": [
    "### Noise\n",
    "Considerations\n",
    "- Various sources of noise\n",
    "    - Structural effects on noise\n",
    "    <img src=\"img/Noise_sources.png\" alt=\"pic here\" style=\"width: 400px;\"/>\n",
    "    - Difficulty in modeling\n",
    "        - Do current models/approximations capture the interaction effects\n",
    "    - Relative location dependence\n",
    "    \n",
    "Methods \n",
    "- SolidWorks FFT noise power function\n",
    "\n",
    "\n",
    "\n"
   ]
  },
  {
   "cell_type": "code",
   "execution_count": 1,
   "metadata": {
    "scrolled": true
   },
   "outputs": [
    {
     "data": {
      "image/jpeg": "[encoded data removed]",
      "text/html": [
       "\n",
       "        <iframe\n",
       "            width=\"400\"\n",
       "            height=\"300\"\n",
       "            src=\"https://www.youtube.com/embed/-YPdNRJY6eE\"\n",
       "            frameborder=\"0\"\n",
       "            allowfullscreen\n",
       "        ></iframe>\n",
       "        "
      ],
      "text/plain": [
       "<IPython.lib.display.YouTubeVideo at 0x1093de4a8>"
      ]
     },
     "execution_count": 1,
     "metadata": {},
     "output_type": "execute_result"
    }
   ],
   "source": [
    "from IPython.lib.display import YouTubeVideo\n",
    "YouTubeVideo('-YPdNRJY6eE')"
   ]
  },
  {
   "cell_type": "markdown",
   "metadata": {},
   "source": [
    "- Ansys\n",
    "    - Surface Acoustic Power\n",
    "    - Liley's Total noise source"
   ]
  },
  {
   "cell_type": "markdown",
   "metadata": {},
   "source": [
    "Papers\n",
    "- Rotor Inflow Noise Caused by a Boundary Layer: Theory and Examples\n",
    "- A Review of Aerodynamic Noise From Propellers, Rotors, and Lift Fans\n",
    "- Eric Tingey Thesis \n",
    "    - Uses a noise model \"based on the turbine’s geometry, rotation rate, and distance from an observer\"\n",
    "    - \"The BPM equations describe different sources of noise: the trailing edge of the turbine blade and vortex shedding from the laminar boundary layer, the bluntness of the trailing edge, the tips of the blades, and noise coming from separation stall. \"\n",
    "- An Experimental Study on the Aerodynamic and Aeroacoustic Performances of a Bio-Inspired UAV Propeller\n",
    "- High-Lift Propeller Noise Prediction for a Distributed Electric Propulsion Flight Demonstrator\n",
    "    -\" impact of the DEP configuration on the aircraft noise signature is an important design consideration\"\n",
    "    -\"FW-H equations\" for acoustic predictions\n",
    "    \n",
    "- Acoustic Prediction of High Speed Propeller Noise Using URANS and a Ffowcs Williams-Hawkings Solver\n",
    "    - \"An unsteady Reynolds- Averaged Navier-Stokes simulation, combined with the Ffowcs Williams-Hawkings Solver, is used to simulate the noise generated by a high speed 8-bladed propeller. Simulations were conducted using the STAR CCM+ code, using a verified 7.6 million cell mesh. This resulted in good prediction of propeller harmonics relative to experimental values.\"\n",
    "    - "
   ]
  },
  {
   "cell_type": "markdown",
   "metadata": {},
   "source": [
    "### Performance of Staggard/Swept Wing Propeller Configuration"
   ]
  },
  {
   "cell_type": "markdown",
   "metadata": {},
   "source": [
    "Considerations\n",
    "- Is a DEP swept wing even a reasonable configuration?\n",
    "\n",
    "\n",
    "Papers\n",
    "-Thrust Loss Saving Design of Overlapping Rotor Arrangement on Small Multirotor Unmanned Aerial Vehicles\n",
    "    - This paper was useful for a space constrained quadrotor. Would a similar study be useful for a wingspan/area constrained VTOL in forward flight?\n",
    "        - Probably not. Electric motors are generally overpowered. Never seen a design with multiple "
   ]
  },
  {
   "cell_type": "markdown",
   "metadata": {},
   "source": [
    "# Summary of New Plan\n",
    "\n",
    "## Performance Values\n",
    "- Use adaptive mesh refinement to create an efficient mesh.\n",
    "- Run CFD gap distance sweep\n",
    "- Take matching emperical data\n",
    "\n",
    "## Noise: Using URANS (CFD) and a Ffowcs Williams-Hawkings Solver\n",
    "- Refine CFD mesh with adaptive for noise \n",
    "- Validate against existing data (An Experimental Investigation on Rotor-to-Rotor Interactions of Small UAV)\n",
    "- Simple coplanar tip gap sweep for noise (similar to \"An Experimental....\" paper but for forward flight.\n",
    "            - \"An unsteady Reynolds- Averaged Navier-Stokes simulation, combined with the Ffowcs Williams-Hawkings Solver, is used to simulate the noise generated by a high speed 8-bladed propeller. Simulations were conducted using the STAR CCM+ code, using a verified 7.6 million cell mesh. This resulted in good prediction of propeller harmonics relative to experimental values.\" (Acoustic Prediction of High Speed Propeller Noise Using URANS and a Ffowcs Williams-Hawkings Solver)\n",
    "                - What noise...  \n",
    "                - \"The aeroacoustic computation was performed with the Farassat 1A Formulation25 of the Ffowcs Williams-Hawkings equation using impermeable surfaces. This equation calculates the noise generated due to three mechanisms: 1) thickness noise generated from the displacement of air due to the geometry of the blades, 2) loading noise generated by the forces exerted on the air by the propeller, and 3) quadrupole noise, which describes noise sources away from the surface of the blade such as vortex noise. The total noise is described by the addition of the thickness, loading, and quadrupole terms. The influence of quadrupole noise is generally small for subsonic propellers. Hanson22 showed that quadrupole noise for a similar propeller as that studied in this paper accounts for less than one dB given the tip Mach number of 0.86 in the validation case. Thus, quadrupole noise is neglected in this paper.\"\n",
    "\n",
    "### Is it impactful?\n",
    "- Very similar empirical static case \n",
    "    -\"An enhancement of ~ 250% was confirmed for the twin-rotor case (i.e., L= 0.05D) in comparison with that of the single rotor case\" (An Experimental Investigation on Rotor-to-Rotor Interactions of Small UAV)\n",
    "- Freestream or static have a significant effect on noise\n",
    "    - \"Static propellers generated more noise than propellers in forward flight\" (A REVIEW OF PROPELLER DISCRETE FREQUENCY NOISE PREDICTION TECHNOLOGY WITH EMPHASIS ON TWO CURRENT METHODS FOR TIME DOMAIN CALCULATIONS)\n",
    "- \n",
    "### Question to Answer \n",
    "- How significant is rotor-to-rotor effects on noise in forward flight?\n",
    "- What is the best way to model rotor-to-rotor noise interaction?\n",
    "- Do the current noise models used capture the rotor-to-rotor effects?\n",
    "    - (\"An Experimental....\")"
   ]
  },
  {
   "cell_type": "code",
   "execution_count": null,
   "metadata": {
    "collapsed": true
   },
   "outputs": [],
   "source": []
  },
  {
   "cell_type": "code",
   "execution_count": null,
   "metadata": {
    "collapsed": true
   },
   "outputs": [],
   "source": []
  },
  {
   "cell_type": "markdown",
   "metadata": {},
   "source": [
    "# FINAL PLAN\n",
    "- Get adaptive mesh refinement working\n",
    "- Create efficient simulations\n",
    "- Run simulations to gather performance measures for varying tip gap distances\n",
    "- Collect matching empirical data\n",
    "        \n",
    "            * Result: Accurate CFD & Emperical data for Validation & Verification of Eduardos VPM (co-author)\n",
    "\n",
    "- Validate & Verify noise code for our case\n",
    "- Gather noise data for single co-planar propellers with varying tip gap distances\n",
    "    - Probably will use CFD for inputs\n",
    "        \n",
    "            * Result: Rotor-to-rotor noise interaction for forward flight with varying tip gap distances\n",
    "\n",
    "SIMILAR PAPERS: \"An Experimental Investigation on Rotor-to-Rotor Interactions of Small UAV\"\n",
    "\n",
    "## Backup Plan\n",
    "- Performance sweeps for varying configurations with a freestream\n",
    "    - Can use CFD, VPM, or Empirical\n",
    "    \n",
    "            * Result: Understanding of how propellers interact in different configurations/flight conditions Could include conceptual idea as an example of how to apply.  \n",
    "            \n",
    "            \n",
    "SIMILAR PAPER: \"Thrust Loss Saving Design of Overlapping Rotor Arrangement on Small Multirotor Unmanned Aerial Vehicles\""
   ]
  },
  {
   "cell_type": "code",
   "execution_count": null,
   "metadata": {
    "collapsed": true
   },
   "outputs": [],
   "source": []
  },
  {
   "cell_type": "markdown",
   "metadata": {},
   "source": [
    "# Detailed Plan\n",
    "\n",
    "## Empirical\n",
    "- Verify our test setup.\n",
    "    - Run single propeller 10x7 APC efficiency vs advance ratio sweep (well documented)\n",
    "        - Potentially look into wind tunnel correction factors\n",
    "        - Compare with literature\n",
    "    - Get both test stands to match each other. Dynamic load testing\n",
    "    \n",
    "- Run double propeller case\n",
    "    - Single wind speed, varying tip gap separation distance (thrust & torque)\n",
    "\n",
    "## CFD\n",
    "- Implement latest refinement criterion equation into StarCCM+\n",
    "    - Test the refinement manually\n",
    "    - Create an automated script in java\n",
    "- Test new adaptive mesh refinement for single case\n",
    "- Run grid convergence test on resulting simulations\n",
    "- Run temporal convergence\n",
    "- Iterate as needed\n",
    "\n",
    "With a verified CFD code\n",
    "- Run for varying tip gap distances\n",
    "- Compare results to empirical data\n",
    "\n",
    "## Noise\n",
    "- Research into understanding noise codes in general\n",
    "    - Specifically Farassat 1A Formulation of the Ffowcs Williams-Hawkings equation\n",
    "- Learn how to use the HELINOIR code\n",
    "- Validate against single propeller published noise data \n",
    "- Compare against double propeller noise data: \"An Experimental Investigation on Rotor-to-Rotor Interactions of Small UAV\" paper\n",
    "\n",
    "\n",
    "If valid\n",
    "- Rerun with freestream \n",
    "\n",
    "If doesnt capture values\n",
    "- Implementation of quadruple\n",
    "\n",
    "or\n",
    "\n",
    "- Continue to backup\n",
    "\n",
    "\n",
    "## Backup\n",
    "- Take existing CFD setup and run for different spacing/configurations\n",
    "    - This will include remeshing (use existing adaptive mesh script)\n",
    "- Possibly modify test stand to gather empirical data for these configurations\n",
    "- Create example case to showcase results"
   ]
  },
  {
   "cell_type": "code",
   "execution_count": null,
   "metadata": {
    "collapsed": true
   },
   "outputs": [],
   "source": []
  }
 ],
 "metadata": {
  "anaconda-cloud": {},
  "kernelspec": {
   "display_name": "Python 3",
   "language": "python",
   "name": "python3"
  },
  "language_info": {
   "codemirror_mode": {
    "name": "ipython",
    "version": 3
   },
   "file_extension": ".py",
   "mimetype": "text/x-python",
   "name": "python",
   "nbconvert_exporter": "python",
   "pygments_lexer": "ipython3",
   "version": "3.7.0"
  }
 },
 "nbformat": 4,
 "nbformat_minor": 1
}
