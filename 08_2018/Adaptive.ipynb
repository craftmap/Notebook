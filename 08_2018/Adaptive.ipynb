{
 "cells": [
  {
   "cell_type": "markdown",
   "metadata": {},
   "source": [
    "# Adaptive Mesh Refinement"
   ]
  },
  {
   "cell_type": "markdown",
   "metadata": {},
   "source": [
    "## Refinement Criterion Ideas\n",
    "1) Density gradient magnitued with turbulent kinetic energy\n",
    "\n",
    "2)  $V_{grad} = grad(mag(\\$ \\$ Velocity))$ Vectory Function; \n",
    "    \n",
    "    $Mesh_{refine} = (mag(\\$ \\$ V_{grad})>10000)? 0.0005:5$ Scalar Function\n",
    "    \n",
    "3) Definition of the Velocity Gradient\n",
    "    $$\\bigtriangledown V = \\frac{V_o-V_i}{l}$$\n",
    "    $$l \\bigtriangledown V = V_o - V_i$$\n",
    "    Divide both sides by Velocity\n",
    "    $$\\frac{l \\bigtriangledown V}{Velocity} = \\frac{V_o - V_i}{Velocity}$$\n",
    "    We know we want the right side above (the percent velocity change across the cell) to be a small percentage. So:\n",
    "    $$\\frac{l \\bigtriangledown V}{Velocity} < .01 $$\n"
   ]
  },
  {
   "cell_type": "markdown",
   "metadata": {
    "collapsed": true
   },
   "source": [
    "## StarCCM+ Implementation Process\n",
    "See https://thesteveportal.plm.automation.siemens.com/articles/en_US/FAQ/MH-4-170\n",
    "\n",
    "1) Create New Field Function\n",
    "    - "
   ]
  }
 ],
 "metadata": {
  "anaconda-cloud": {},
  "kernelspec": {
   "display_name": "Python [default]",
   "language": "python",
   "name": "python2"
  },
  "language_info": {
   "codemirror_mode": {
    "name": "ipython",
    "version": 2
   },
   "file_extension": ".py",
   "mimetype": "text/x-python",
   "name": "python",
   "nbconvert_exporter": "python",
   "pygments_lexer": "ipython2",
   "version": "2.7.12"
  }
 },
 "nbformat": 4,
 "nbformat_minor": 1
}
