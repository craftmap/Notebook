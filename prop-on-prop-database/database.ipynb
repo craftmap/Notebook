{
 "cells": [
  {
   "cell_type": "markdown",
   "metadata": {},
   "source": [
    "# Prop-on-prop Surrogate Model"
   ]
  },
  {
   "cell_type": "markdown",
   "metadata": {},
   "source": [
    "## Analysis Functions"
   ]
  },
  {
   "cell_type": "code",
   "execution_count": 1,
   "metadata": {},
   "outputs": [
    {
     "data": {
      "text/plain": [
       "zeta_wnklmns (generic function with 1 method)"
      ]
     },
     "execution_count": 1,
     "metadata": {},
     "output_type": "execute_result"
    }
   ],
   "source": [
    "# Singular kernel\n",
    "zeta_sing(r) = r==0 ? 1 : 0\n",
    "\n",
    "# erf Gaussian kernel\n",
    "zeta_gauserf(r) = 1/(2*pi)^(3/2) * exp(-r^2/2)\n",
    "\n",
    "# Gaussian kernel\n",
    "zeta_gaus(r) = 3/(4*pi)*exp(-r^3)\n",
    "\n",
    "# Winckelmans algebraic kernel\n",
    "zeta_wnklmns(r) = 7.5 / (4*pi) / (r^2 + 1)^3.5"
   ]
  },
  {
   "cell_type": "code",
   "execution_count": 2,
   "metadata": {},
   "outputs": [
    {
     "data": {
      "text/plain": [
       "generate_RBF (generic function with 1 method)"
      ]
     },
     "execution_count": 2,
     "metadata": {},
     "output_type": "execute_result"
    }
   ],
   "source": [
    "using Statistics\n",
    "using LinearAlgebra\n",
    "\n",
    "# Returns a radial basis function interpolation of a field\n",
    "# with values `val` at positions `Xp`. `zeta` is the chosen\n",
    "# basis function\n",
    "function generate_RBF(Xp, val, zeta; sigmas=0.1)\n",
    "    \n",
    "    # ERROR CASES\n",
    "    if size(Xp,1)!=size(val,1)\n",
    "        error(\"size(Xp,1)!=size(val,1)\")\n",
    "    end\n",
    "    \n",
    "    Np = size(Xp, 1)                     # Number of data points\n",
    "    \n",
    "    if size(sigmas)==()\n",
    "        sgms = sigmas*ones(Np)           # Spreading of every basis function\n",
    "    else\n",
    "        sgms = sigmas\n",
    "    end\n",
    "        \n",
    "    # j-th scaled basis evaluated at X\n",
    "    zetasgm(j, X) = zeta(Statistics.norm(X-Xp[j])/sgms[j])/sgms[j]^3\n",
    "     \n",
    "    # Matrix with basis functions evaluated at every point\n",
    "    # Z[i,j] corresponds to the j-th basis evaluated at i-th point\n",
    "    Z = [zetasgm(j, Xi) for Xi in Xp, j in 1:Np]\n",
    "    \n",
    "    # Solves for the alpha coefficients of every basis\n",
    "#     A = Z\\val\n",
    "    A = pinv(Z)*val\n",
    "    \n",
    "    # Generates RBF interpolation function\n",
    "    rbf(X) = sum([A[j]*zetasgm(j, X) for j in 1:Np])\n",
    "    \n",
    "    return rbf, A\n",
    "end"
   ]
  },
  {
   "cell_type": "markdown",
   "metadata": {},
   "source": [
    "## Open Database"
   ]
  },
  {
   "cell_type": "code",
   "execution_count": 3,
   "metadata": {},
   "outputs": [
    {
     "name": "stdout",
     "output_type": "stream",
     "text": [
      "\u001b[32m\u001b[1m  Updating\u001b[22m\u001b[39m registry at `~/.julia/registries/General`\n",
      "\u001b[32m\u001b[1m  Updating\u001b[22m\u001b[39m git-repo `https://github.com/JuliaRegistries/General.git`\n",
      "\u001b[?25l\u001b[2K\u001b[?25h\u001b[32m\u001b[1m Resolving\u001b[22m\u001b[39m package versions...\n",
      "\u001b[32m\u001b[1m  Updating\u001b[22m\u001b[39m `~/.julia/environments/v1.0/Project.toml`\n",
      "\u001b[90m [no changes]\u001b[39m\n",
      "\u001b[32m\u001b[1m  Updating\u001b[22m\u001b[39m `~/.julia/environments/v1.0/Manifest.toml`\n",
      "\u001b[90m [no changes]\u001b[39m\n"
     ]
    }
   ],
   "source": [
    "using Pkg\n",
    "Pkg.add(\"JuliaDB\")"
   ]
  },
  {
   "cell_type": "code",
   "execution_count": 4,
   "metadata": {},
   "outputs": [
    {
     "name": "stdout",
     "output_type": "stream",
     "text": [
      "\u001b[32m\u001b[1m Resolving\u001b[22m\u001b[39m package versions...\n",
      "\u001b[32m\u001b[1m  Updating\u001b[22m\u001b[39m `~/.julia/environments/v1.0/Project.toml`\n",
      "\u001b[90m [no changes]\u001b[39m\n",
      "\u001b[32m\u001b[1m  Updating\u001b[22m\u001b[39m `~/.julia/environments/v1.0/Manifest.toml`\n",
      "\u001b[90m [no changes]\u001b[39m\n",
      "\u001b[32m\u001b[1m Resolving\u001b[22m\u001b[39m package versions...\n",
      "\u001b[32m\u001b[1m  Updating\u001b[22m\u001b[39m `~/.julia/environments/v1.0/Project.toml`\n",
      "\u001b[90m [no changes]\u001b[39m\n",
      "\u001b[32m\u001b[1m  Updating\u001b[22m\u001b[39m `~/.julia/environments/v1.0/Manifest.toml`\n",
      "\u001b[90m [no changes]\u001b[39m\n",
      "\u001b[32m\u001b[1m Resolving\u001b[22m\u001b[39m package versions...\n"
     ]
    },
    {
     "data": {
      "text/html": [
       "    <script class='js-collapse-script'>\n",
       "        var curMatch =\n",
       "            window.location.href\n",
       "            .match(/(.*?)\\/notebooks\\/.*\\.ipynb/);\n",
       "\n",
       "        curMatch = curMatch ||\n",
       "            window.location.href\n",
       "            .match(/(.*?)\\/apps\\/.*\\.ipynb/);\n",
       "\n",
       "        if ( curMatch ) {\n",
       "            $('head').append('<base href=\"' + curMatch[1] + '/\">');\n",
       "        }\n",
       "    </script>\n"
      ],
      "text/plain": [
       "HTML{String}(\"    <script class='js-collapse-script'>\\n        var curMatch =\\n            window.location.href\\n            .match(/(.*?)\\\\/notebooks\\\\/.*\\\\.ipynb/);\\n\\n        curMatch = curMatch ||\\n            window.location.href\\n            .match(/(.*?)\\\\/apps\\\\/.*\\\\.ipynb/);\\n\\n        if ( curMatch ) {\\n            \\$('head').append('<base href=\\\"' + curMatch[1] + '/\\\">');\\n        }\\n    </script>\\n\")"
      ]
     },
     "metadata": {},
     "output_type": "display_data"
    },
    {
     "data": {
      "text/html": [
       "<script class='js-collapse-script' src='/assetserver/614413f37706119d59ac1ae6e9e38037cd09365b-assets/webio/dist/bundle.js'></script>"
      ],
      "text/plain": [
       "HTML{String}(\"<script class='js-collapse-script' src='/assetserver/614413f37706119d59ac1ae6e9e38037cd09365b-assets/webio/dist/bundle.js'></script>\")"
      ]
     },
     "metadata": {},
     "output_type": "display_data"
    },
    {
     "data": {
      "text/html": [
       "<script class='js-collapse-script' src='/assetserver/614413f37706119d59ac1ae6e9e38037cd09365b-assets/providers/ijulia_setup.js'></script>"
      ],
      "text/plain": [
       "HTML{String}(\"<script class='js-collapse-script' src='/assetserver/614413f37706119d59ac1ae6e9e38037cd09365b-assets/providers/ijulia_setup.js'></script>\")"
      ]
     },
     "metadata": {},
     "output_type": "display_data"
    },
    {
     "data": {
      "text/html": [
       "  <script class='js-collapse-script'>\n",
       "    $('.js-collapse-script').parent('.output_subarea').css('padding', '0');\n",
       "  </script>\n"
      ],
      "text/plain": [
       "HTML{String}(\"  <script class='js-collapse-script'>\\n    \\$('.js-collapse-script').parent('.output_subarea').css('padding', '0');\\n  </script>\\n\")"
      ]
     },
     "metadata": {},
     "output_type": "display_data"
    },
    {
     "name": "stdout",
     "output_type": "stream",
     "text": [
      "\u001b[32m\u001b[1m  Updating\u001b[22m\u001b[39m `~/.julia/environments/v1.0/Project.toml`\n",
      "\u001b[90m [no changes]\u001b[39m\n",
      "\u001b[32m\u001b[1m  Updating\u001b[22m\u001b[39m `~/.julia/environments/v1.0/Manifest.toml`\n",
      "\u001b[90m [no changes]\u001b[39m\n"
     ]
    },
    {
     "name": "stderr",
     "output_type": "stream",
     "text": [
      "┌ Info: Recompiling stale cache file /Users/aschenk/.julia/compiled/v1.0/Plots/ld3vC.ji for Plots [91a5bcdd-55d7-5caf-9e0b-520d859cae80]\n",
      "└ @ Base loading.jl:1190\n"
     ]
    },
    {
     "data": {
      "text/plain": [
       "Table with 638 rows, 33 columns:\n",
       "Columns:\n",
       "\u001b[1m#   \u001b[22m\u001b[1mcolname         \u001b[22m\u001b[1mtype\u001b[22m\n",
       "───────────────────────────────────────────\n",
       "1   rotors          Int64\n",
       "2   rotor           Int64\n",
       "3   nrevs_ave       Int64\n",
       "4   nrevs_tot       Int64\n",
       "5   corrotating     String\n",
       "6   doR             Float64\n",
       "7   J               Float64\n",
       "8   ReD07           Float64\n",
       "9   CT_mean         Float64\n",
       "10  CT_std          Float64\n",
       "11  CQ_mean         Float64\n",
       "12  CQ_std          Float64\n",
       "13  eta_mean        Float64\n",
       "14  eta_std         Float64\n",
       "15  nelements       Int64\n",
       "16  nsteps_per_rev  Int64\n",
       "17  xfoil           String\n",
       "18  sigmafactor     Float64\n",
       "19  conv_file       String\n",
       "20  args_file       String\n",
       "21  doR_ref         Float64\n",
       "22  CT_mean_ref     Float64\n",
       "23  CT_std_ref      Float64\n",
       "24  CQ_mean_ref     Float64\n",
       "25  CQ_std_ref      Float64\n",
       "26  eta_mean_ref    Float64\n",
       "27  eta_std_ref     Float64\n",
       "28  normCT_mean     Float64\n",
       "29  normCT_std      Float64\n",
       "30  normCQ_mean     Float64\n",
       "31  normCQ_std      Float64\n",
       "32  normeta_mean    Union{Missing, Float64}\n",
       "33  normeta_std     Union{Missing, Float64}"
      ]
     },
     "execution_count": 4,
     "metadata": {},
     "output_type": "execute_result"
    }
   ],
   "source": [
    "# using Plotly\n",
    "Pkg.add(\"LaTeXStrings\")\n",
    "Pkg.add(\"Interact\")\n",
    "Pkg.add(\"Plots\")\n",
    "using LaTeXStrings\n",
    "using Interact\n",
    "import JuliaDB\n",
    "# using StatPlots\n",
    "# stplscatter = StatPlots.scatter\n",
    "using Plots\n",
    "db = JuliaDB\n",
    "\n",
    "data = db.loadtable(\"data/sweep_apc10x7_20181126.csv\")"
   ]
  },
  {
   "cell_type": "markdown",
   "metadata": {},
   "source": [
    "## Surrogate Model"
   ]
  },
  {
   "cell_type": "code",
   "execution_count": 5,
   "metadata": {},
   "outputs": [
    {
     "data": {
      "text/plain": [
       "Node{WebIO.DOM}(WebIO.DOM(:html, :div), Any[Scope(\"knockout-component-f8917bb9-1060-4512-928f-8df9d436087a\", Node{DOM}(DOM(:html, :div), Any[Node{DOM}(DOM(:html, :div), Any[Node{DOM}(DOM(:html, :label), Any[\"fluctX1e3\"], Dict{Symbol,Any}(:className=>\"interact \",:style=>Dict{Any,Any}(:padding=>\"5px 10px 0px 10px\")), 1)], Dict{Symbol,Any}(:className=>\"interact-flex-row-left\"), 2), Node{DOM}(DOM(:html, :div), Any[Node{DOM}(DOM(:html, :div), Any[Node{DOM}(DOM(:html, :span), Any[Node{DOM}(DOM(:html, :label), Any[], Dict{Symbol,Any}(:attributes=>Dict(\"data-bind\"=>\"text : key\")), 0)], Dict{Symbol,Any}(:attributes=>Dict(\"data-bind\"=>\"click: function (){\\$root.update(val)}, css: {'is-primary is-selected' : \\$root.index() == val, 'interact-widget button ' : true}\")), 1)], Dict{Symbol,Any}(:attributes=>(\"data-bind\"=>\"foreach : options_js\"),:className=>\"buttons has-addons is-centered\"), 2)], Dict{Symbol,Any}(:className=>\"interact-flex-row-center\"), 3), Node{DOM}(DOM(:html, :div), Any[Node{DOM}(DOM(:html, :div), Any[], Dict{Symbol,Any}(), 0)], Dict{Symbol,Any}(:className=>\"interact-flex-row-right\"), 1)], Dict{Symbol,Any}(:className=>\"interact-flex-row interact-widget\"), 9), Dict{String,Tuple{Observables.AbstractObservable,Union{Nothing, Bool}}}(\"options_js\"=>(Observable{Any} with 1 listeners. Value:\n",
       "OrderedDict[OrderedDict{String,Any}(\"key\"=>\"false\",\"val\"=>1,\"id\"=>\"idY5eeNpiL\"), OrderedDict{String,Any}(\"key\"=>\"true\",\"val\"=>2,\"id\"=>\"id7nRf2rbD\")], nothing),\"index\"=>(Observable{Any} with 2 listeners. Value:\n",
       "1, nothing)), Set(String[]), nothing, Any[\"knockout\"=>\"/Users/aschenk/.julia/packages/Knockout/JE2Yq/src/../assets/knockout.js\", \"knockout_punches\"=>\"/Users/aschenk/.julia/packages/Knockout/JE2Yq/src/../assets/knockout_punches.js\", \"/Users/aschenk/.julia/packages/InteractBase/R8JgH/src/../assets/all.js\", \"/Users/aschenk/.julia/packages/InteractBase/R8JgH/src/../assets/style.css\", \"/Users/aschenk/.julia/packages/Interact/0klKX/src/../assets/bulma_confined.min.css\"], Dict{Any,Any}(\"_promises\"=>Dict{Any,Any}(\"importsLoaded\"=>Any[JSString(\"function (ko, koPunches) {\\n    ko.punches.enableAll();\\n    ko.bindingHandlers.numericValue = {\\n        init : function(element, valueAccessor, allBindings, data, context) {\\n            var stringified = ko.observable(ko.unwrap(valueAccessor()));\\n            stringified.subscribe(function(value) {\\n                var val = parseFloat(value);\\n                if (!isNaN(val)) {\\n                    valueAccessor()(val);\\n                }\\n            })\\n            valueAccessor().subscribe(function(value) {\\n                var str = JSON.stringify(value);\\n                if ((str == \\\"0\\\") && ([\\\"-0\\\", \\\"-0.\\\"].indexOf(stringified()) >= 0))\\n                     return;\\n                 if ([\\\"null\\\", \\\"\\\"].indexOf(str) >= 0)\\n                     return;\\n                stringified(str);\\n            })\\n            ko.applyBindingsToNode(element, { value: stringified, valueUpdate: allBindings.get('valueUpdate')}, context);\\n        }\\n    };\\n    var json_data = {\\\"options_js\\\":WebIO.getval({\\\"name\\\":\\\"options_js\\\",\\\"scope\\\":\\\"knockout-component-f8917bb9-1060-4512-928f-8df9d436087a\\\",\\\"id\\\":\\\"ob_05\\\",\\\"type\\\":\\\"observable\\\"}),\\\"index\\\":WebIO.getval({\\\"name\\\":\\\"index\\\",\\\"scope\\\":\\\"knockout-component-f8917bb9-1060-4512-928f-8df9d436087a\\\",\\\"id\\\":\\\"ob_04\\\",\\\"type\\\":\\\"observable\\\"})};\\n    var self = this;\\n    function AppViewModel() {\\n        for (var key in json_data) {\\n            var el = json_data[key];\\n            this[key] = Array.isArray(el) ? ko.observableArray(el) : ko.observable(el);\\n        }\\n        [this[\\\"update\\\"]=function (val) {this.index(val)}]\\n        \\n        [this[\\\"options_js\\\"].subscribe((function (val){!(this.valueFromJulia[\\\"options_js\\\"]) ? (WebIO.setval({\\\"name\\\":\\\"options_js\\\",\\\"scope\\\":\\\"knockout-component-f8917bb9-1060-4512-928f-8df9d436087a\\\",\\\"id\\\":\\\"ob_05\\\",\\\"type\\\":\\\"observable\\\"},val)) : undefined; return this.valueFromJulia[\\\"options_js\\\"]=false}),self),this[\\\"index\\\"].subscribe((function (val){!(this.valueFromJulia[\\\"index\\\"]) ? (WebIO.setval({\\\"name\\\":\\\"index\\\",\\\"scope\\\":\\\"knockout-component-f8917bb9-1060-4512-928f-8df9d436087a\\\",\\\"id\\\":\\\"ob_04\\\",\\\"type\\\":\\\"observable\\\"},val)) : undefined; return this.valueFromJulia[\\\"index\\\"]=false}),self)]\\n        \\n    }\\n    self.model = new AppViewModel();\\n    self.valueFromJulia = {};\\n    for (var key in json_data) {\\n        self.valueFromJulia[key] = false;\\n    }\\n    ko.applyBindings(self.model, self.dom);\\n}\\n\")]),\"options_js\"=>Any[JSString(\"(function (val){return (val!=this.model[\\\"options_js\\\"]()) ? (this.valueFromJulia[\\\"options_js\\\"]=true, this.model[\\\"options_js\\\"](val)) : undefined})\")],\"index\"=>Any[JSString(\"(function (val){return (val!=this.model[\\\"index\\\"]()) ? (this.valueFromJulia[\\\"index\\\"]=true, this.model[\\\"index\\\"](val)) : undefined})\")]), ConnectionPool(Channel{Any}(sz_max:9223372036854775807,sz_curr:2), Set(AbstractConnection[]), Channel{AbstractConnection}(sz_max:32,sz_curr:0))), Scope(\"knockout-component-1287180c-fdd2-43e3-a2e2-52da54a823c1\", Node{DOM}(DOM(:html, :div), Any[Node{DOM}(DOM(:html, :div), Any[Node{DOM}(DOM(:html, :label), Any[\"zeta\"], Dict{Symbol,Any}(:className=>\"interact \",:style=>Dict{Any,Any}(:padding=>\"5px 10px 0px 10px\")), 1)], Dict{Symbol,Any}(:className=>\"interact-flex-row-left\"), 2), Node{DOM}(DOM(:html, :div), Any[Node{DOM}(DOM(:html, :div), Any[Node{DOM}(DOM(:html, :span), Any[Node{DOM}(DOM(:html, :label), Any[], Dict{Symbol,Any}(:attributes=>Dict(\"data-bind\"=>\"text : key\")), 0)], Dict{Symbol,Any}(:attributes=>Dict(\"data-bind\"=>\"click: function (){\\$root.update(val)}, css: {'is-primary is-selected' : \\$root.index() == val, 'interact-widget button ' : true}\")), 1)], Dict{Symbol,Any}(:attributes=>(\"data-bind\"=>\"foreach : options_js\"),:className=>\"buttons has-addons is-centered\"), 2)], Dict{Symbol,Any}(:className=>\"interact-flex-row-center\"), 3), Node{DOM}(DOM(:html, :div), Any[Node{DOM}(DOM(:html, :div), Any[], Dict{Symbol,Any}(), 0)], Dict{Symbol,Any}(:className=>\"interact-flex-row-right\"), 1)], Dict{Symbol,Any}(:className=>\"interact-flex-row interact-widget\"), 9), Dict{String,Tuple{Observables.AbstractObservable,Union{Nothing, Bool}}}(\"options_js\"=>(Observable{Any} with 1 listeners. Value:\n",
       "OrderedDict[OrderedDict{String,Any}(\"key\"=>\"zeta_gauserf\",\"val\"=>1,\"id\"=>\"idMOn4WjMU\"), OrderedDict{String,Any}(\"key\"=>\"zeta_gaus\",\"val\"=>2,\"id\"=>\"id8NeCBMPg\"), OrderedDict{String,Any}(\"key\"=>\"zeta_wnklmns\",\"val\"=>3,\"id\"=>\"idgJlyV9ih\"), OrderedDict{String,Any}(\"key\"=>\"zeta_sing\",\"val\"=>4,\"id\"=>\"id3FgmHcPc\")], nothing),\"index\"=>(Observable{Any} with 2 listeners. Value:\n",
       "1, nothing)), Set(String[]), nothing, Any[\"knockout\"=>\"/Users/aschenk/.julia/packages/Knockout/JE2Yq/src/../assets/knockout.js\", \"knockout_punches\"=>\"/Users/aschenk/.julia/packages/Knockout/JE2Yq/src/../assets/knockout_punches.js\", \"/Users/aschenk/.julia/packages/InteractBase/R8JgH/src/../assets/all.js\", \"/Users/aschenk/.julia/packages/InteractBase/R8JgH/src/../assets/style.css\", \"/Users/aschenk/.julia/packages/Interact/0klKX/src/../assets/bulma_confined.min.css\"], Dict{Any,Any}(\"_promises\"=>Dict{Any,Any}(\"importsLoaded\"=>Any[JSString(\"function (ko, koPunches) {\\n    ko.punches.enableAll();\\n    ko.bindingHandlers.numericValue = {\\n        init : function(element, valueAccessor, allBindings, data, context) {\\n            var stringified = ko.observable(ko.unwrap(valueAccessor()));\\n            stringified.subscribe(function(value) {\\n                var val = parseFloat(value);\\n                if (!isNaN(val)) {\\n                    valueAccessor()(val);\\n                }\\n            })\\n            valueAccessor().subscribe(function(value) {\\n                var str = JSON.stringify(value);\\n                if ((str == \\\"0\\\") && ([\\\"-0\\\", \\\"-0.\\\"].indexOf(stringified()) >= 0))\\n                     return;\\n                 if ([\\\"null\\\", \\\"\\\"].indexOf(str) >= 0)\\n                     return;\\n                stringified(str);\\n            })\\n            ko.applyBindingsToNode(element, { value: stringified, valueUpdate: allBindings.get('valueUpdate')}, context);\\n        }\\n    };\\n    var json_data = {\\\"options_js\\\":WebIO.getval({\\\"name\\\":\\\"options_js\\\",\\\"scope\\\":\\\"knockout-component-1287180c-fdd2-43e3-a2e2-52da54a823c1\\\",\\\"id\\\":\\\"ob_10\\\",\\\"type\\\":\\\"observable\\\"}),\\\"index\\\":WebIO.getval({\\\"name\\\":\\\"index\\\",\\\"scope\\\":\\\"knockout-component-1287180c-fdd2-43e3-a2e2-52da54a823c1\\\",\\\"id\\\":\\\"ob_09\\\",\\\"type\\\":\\\"observable\\\"})};\\n    var self = this;\\n    function AppViewModel() {\\n        for (var key in json_data) {\\n            var el = json_data[key];\\n            this[key] = Array.isArray(el) ? ko.observableArray(el) : ko.observable(el);\\n        }\\n        [this[\\\"update\\\"]=function (val) {this.index(val)}]\\n        \\n        [this[\\\"options_js\\\"].subscribe((function (val){!(this.valueFromJulia[\\\"options_js\\\"]) ? (WebIO.setval({\\\"name\\\":\\\"options_js\\\",\\\"scope\\\":\\\"knockout-component-1287180c-fdd2-43e3-a2e2-52da54a823c1\\\",\\\"id\\\":\\\"ob_10\\\",\\\"type\\\":\\\"observable\\\"},val)) : undefined; return this.valueFromJulia[\\\"options_js\\\"]=false}),self),this[\\\"index\\\"].subscribe((function (val){!(this.valueFromJulia[\\\"index\\\"]) ? (WebIO.setval({\\\"name\\\":\\\"index\\\",\\\"scope\\\":\\\"knockout-component-1287180c-fdd2-43e3-a2e2-52da54a823c1\\\",\\\"id\\\":\\\"ob_09\\\",\\\"type\\\":\\\"observable\\\"},val)) : undefined; return this.valueFromJulia[\\\"index\\\"]=false}),self)]\\n        \\n    }\\n    self.model = new AppViewModel();\\n    self.valueFromJulia = {};\\n    for (var key in json_data) {\\n        self.valueFromJulia[key] = false;\\n    }\\n    ko.applyBindings(self.model, self.dom);\\n}\\n\")]),\"options_js\"=>Any[JSString(\"(function (val){return (val!=this.model[\\\"options_js\\\"]()) ? (this.valueFromJulia[\\\"options_js\\\"]=true, this.model[\\\"options_js\\\"](val)) : undefined})\")],\"index\"=>Any[JSString(\"(function (val){return (val!=this.model[\\\"index\\\"]()) ? (this.valueFromJulia[\\\"index\\\"]=true, this.model[\\\"index\\\"](val)) : undefined})\")]), ConnectionPool(Channel{Any}(sz_max:9223372036854775807,sz_curr:2), Set(AbstractConnection[]), Channel{AbstractConnection}(sz_max:32,sz_curr:0))), Node{DOM}(DOM(:html, :div), Any[Scope(\"knockout-component-7a810833-2a84-485c-8ca4-724838e8b6a0\", Node{DOM}(DOM(:html, :div), Any[\"zmin\", Node{DOM}(DOM(:html, :div), Any[Node{DOM}(DOM(:html, :select), Any[], Dict{Symbol,Any}(:attributes=>Dict{Union{String, Symbol},Any}(Symbol(\"data-bind\")=>\"options : options_js, value : index, optionsText: 'key', optionsValue: 'val', valueAllowUnset: true, optionsAfterRender: disablePlaceholder\")), 0)], Dict{Symbol,Any}(:className=>\"select \"), 1)], Dict{Symbol,Any}(:style=>Dict(\"display\"=>\"flex\",\"flex-direction\"=>\"column\")), 3), Dict{String,Tuple{Observables.AbstractObservable,Union{Nothing, Bool}}}(\"options_js\"=>(Observable{Any} with 1 listeners. Value:\n",
       "OrderedDict[OrderedDict{String,Any}(\"key\"=>\"0.0\",\"val\"=>1,\"id\"=>\"idmvr2nDLN\"), OrderedDict{String,Any}(\"key\"=>\"0.025\",\"val\"=>2,\"id\"=>\"id86IfvrdW\"), OrderedDict{String,Any}(\"key\"=>\"0.05\",\"val\"=>3,\"id\"=>\"id03AXYraQ\"), OrderedDict{String,Any}(\"key\"=>\"0.075\",\"val\"=>4,\"id\"=>\"idrFG7MX3n\"), OrderedDict{String,Any}(\"key\"=>\"0.1\",\"val\"=>5,\"id\"=>\"id8ogUfZ1f\"), OrderedDict{String,Any}(\"key\"=>\"0.125\",\"val\"=>6,\"id\"=>\"idsWoLD4pa\"), OrderedDict{String,Any}(\"key\"=>\"0.15\",\"val\"=>7,\"id\"=>\"ido9anYH8p\"), OrderedDict{String,Any}(\"key\"=>\"0.175\",\"val\"=>8,\"id\"=>\"idfzR3xZxn\"), OrderedDict{String,Any}(\"key\"=>\"0.2\",\"val\"=>9,\"id\"=>\"idja6dHwnZ\"), OrderedDict{String,Any}(\"key\"=>\"0.225\",\"val\"=>10,\"id\"=>\"idXldLOPoY\")  …  OrderedDict{String,Any}(\"key\"=>\"0.775\",\"val\"=>32,\"id\"=>\"idZ3Wkn935\"), OrderedDict{String,Any}(\"key\"=>\"0.8\",\"val\"=>33,\"id\"=>\"idlW00HNXo\"), OrderedDict{String,Any}(\"key\"=>\"0.825\",\"val\"=>34,\"id\"=>\"idf4p9urXc\"), OrderedDict{String,Any}(\"key\"=>\"0.85\",\"val\"=>35,\"id\"=>\"idBmNLCAEn\"), OrderedDict{String,Any}(\"key\"=>\"0.875\",\"val\"=>36,\"id\"=>\"idtjbpcWiI\"), OrderedDict{String,Any}(\"key\"=>\"0.9\",\"val\"=>37,\"id\"=>\"id7WdFEg4Z\"), OrderedDict{String,Any}(\"key\"=>\"0.925\",\"val\"=>38,\"id\"=>\"idCP17FFqs\"), OrderedDict{String,Any}(\"key\"=>\"0.95\",\"val\"=>39,\"id\"=>\"idP8OGFWUL\"), OrderedDict{String,Any}(\"key\"=>\"0.975\",\"val\"=>40,\"id\"=>\"idaZryRTWq\"), OrderedDict{String,Any}(\"key\"=>\"1.0\",\"val\"=>41,\"id\"=>\"idB2o3MTh4\")], nothing),\"index\"=>(Observable{Any} with 2 listeners. Value:\n",
       "41, nothing)), Set(String[]), nothing, Any[\"knockout\"=>\"/Users/aschenk/.julia/packages/Knockout/JE2Yq/src/../assets/knockout.js\", \"knockout_punches\"=>\"/Users/aschenk/.julia/packages/Knockout/JE2Yq/src/../assets/knockout_punches.js\", \"/Users/aschenk/.julia/packages/InteractBase/R8JgH/src/../assets/all.js\", \"/Users/aschenk/.julia/packages/InteractBase/R8JgH/src/../assets/style.css\", \"/Users/aschenk/.julia/packages/Interact/0klKX/src/../assets/bulma_confined.min.css\"], Dict{Any,Any}(\"_promises\"=>Dict{Any,Any}(\"importsLoaded\"=>Any[JSString(\"function (ko, koPunches) {\\n    ko.punches.enableAll();\\n    ko.bindingHandlers.numericValue = {\\n        init : function(element, valueAccessor, allBindings, data, context) {\\n            var stringified = ko.observable(ko.unwrap(valueAccessor()));\\n            stringified.subscribe(function(value) {\\n                var val = parseFloat(value);\\n                if (!isNaN(val)) {\\n                    valueAccessor()(val);\\n                }\\n            })\\n            valueAccessor().subscribe(function(value) {\\n                var str = JSON.stringify(value);\\n                if ((str == \\\"0\\\") && ([\\\"-0\\\", \\\"-0.\\\"].indexOf(stringified()) >= 0))\\n                     return;\\n                 if ([\\\"null\\\", \\\"\\\"].indexOf(str) >= 0)\\n                     return;\\n                stringified(str);\\n            })\\n            ko.applyBindingsToNode(element, { value: stringified, valueUpdate: allBindings.get('valueUpdate')}, context);\\n        }\\n    };\\n    var json_data = {\\\"options_js\\\":WebIO.getval({\\\"name\\\":\\\"options_js\\\",\\\"scope\\\":\\\"knockout-component-7a810833-2a84-485c-8ca4-724838e8b6a0\\\",\\\"id\\\":\\\"ob_15\\\",\\\"type\\\":\\\"observable\\\"}),\\\"index\\\":WebIO.getval({\\\"name\\\":\\\"index\\\",\\\"scope\\\":\\\"knockout-component-7a810833-2a84-485c-8ca4-724838e8b6a0\\\",\\\"id\\\":\\\"ob_14\\\",\\\"type\\\":\\\"observable\\\"})};\\n    var self = this;\\n    function AppViewModel() {\\n        for (var key in json_data) {\\n            var el = json_data[key];\\n            this[key] = Array.isArray(el) ? ko.observableArray(el) : ko.observable(el);\\n        }\\n        [this[\\\"disablePlaceholder\\\"]=function(option, item) {\\n    ko.applyBindingsToNode(option, {disable: item.val == 0}, item);\\n}\\n]\\n        \\n        [this[\\\"options_js\\\"].subscribe((function (val){!(this.valueFromJulia[\\\"options_js\\\"]) ? (WebIO.setval({\\\"name\\\":\\\"options_js\\\",\\\"scope\\\":\\\"knockout-component-7a810833-2a84-485c-8ca4-724838e8b6a0\\\",\\\"id\\\":\\\"ob_15\\\",\\\"type\\\":\\\"observable\\\"},val)) : undefined; return this.valueFromJulia[\\\"options_js\\\"]=false}),self),this[\\\"index\\\"].subscribe((function (val){!(this.valueFromJulia[\\\"index\\\"]) ? (WebIO.setval({\\\"name\\\":\\\"index\\\",\\\"scope\\\":\\\"knockout-component-7a810833-2a84-485c-8ca4-724838e8b6a0\\\",\\\"id\\\":\\\"ob_14\\\",\\\"type\\\":\\\"observable\\\"},val)) : undefined; return this.valueFromJulia[\\\"index\\\"]=false}),self)]\\n        \\n    }\\n    self.model = new AppViewModel();\\n    self.valueFromJulia = {};\\n    for (var key in json_data) {\\n        self.valueFromJulia[key] = false;\\n    }\\n    ko.applyBindings(self.model, self.dom);\\n}\\n\")]),\"options_js\"=>Any[JSString(\"(function (val){return (val!=this.model[\\\"options_js\\\"]()) ? (this.valueFromJulia[\\\"options_js\\\"]=true, this.model[\\\"options_js\\\"](val)) : undefined})\")],\"index\"=>Any[JSString(\"(function (val){return (val!=this.model[\\\"index\\\"]()) ? (this.valueFromJulia[\\\"index\\\"]=true, this.model[\\\"index\\\"](val)) : undefined})\")]), ConnectionPool(Channel{Any}(sz_max:9223372036854775807,sz_curr:2), Set(AbstractConnection[]), Channel{AbstractConnection}(sz_max:32,sz_curr:0)))], Dict{Symbol,Any}(:className=>\"field interact-widget\"), 1), Node{DOM}(DOM(:html, :div), Any[Scope(\"knockout-component-c399e862-806c-4e03-a49d-e73b036a874f\", Node{DOM}(DOM(:html, :div), Any[\"zmax\", Node{DOM}(DOM(:html, :div), Any[Node{DOM}(DOM(:html, :select), Any[], Dict{Symbol,Any}(:attributes=>Dict{Union{String, Symbol},Any}(Symbol(\"data-bind\")=>\"options : options_js, value : index, optionsText: 'key', optionsValue: 'val', valueAllowUnset: true, optionsAfterRender: disablePlaceholder\")), 0)], Dict{Symbol,Any}(:className=>\"select \"), 1)], Dict{Symbol,Any}(:style=>Dict(\"display\"=>\"flex\",\"flex-direction\"=>\"column\")), 3), Dict{String,Tuple{Observables.AbstractObservable,Union{Nothing, Bool}}}(\"options_js\"=>(Observable{Any} with 1 listeners. Value:\n",
       "OrderedDict[OrderedDict{String,Any}(\"key\"=>\"1.0\",\"val\"=>1,\"id\"=>\"idAzVC4mW0\"), OrderedDict{String,Any}(\"key\"=>\"1.05\",\"val\"=>2,\"id\"=>\"idsFbvJgdx\"), OrderedDict{String,Any}(\"key\"=>\"1.1\",\"val\"=>3,\"id\"=>\"idfHuUXi3V\"), OrderedDict{String,Any}(\"key\"=>\"1.15\",\"val\"=>4,\"id\"=>\"id3dpigeAc\"), OrderedDict{String,Any}(\"key\"=>\"1.2\",\"val\"=>5,\"id\"=>\"idomKDxTsX\"), OrderedDict{String,Any}(\"key\"=>\"1.25\",\"val\"=>6,\"id\"=>\"id66PrWtTf\"), OrderedDict{String,Any}(\"key\"=>\"1.3\",\"val\"=>7,\"id\"=>\"idNezQjSaZ\"), OrderedDict{String,Any}(\"key\"=>\"1.35\",\"val\"=>8,\"id\"=>\"idxE3wvfTU\"), OrderedDict{String,Any}(\"key\"=>\"1.4\",\"val\"=>9,\"id\"=>\"idkHtI5zIV\"), OrderedDict{String,Any}(\"key\"=>\"1.45\",\"val\"=>10,\"id\"=>\"idHDlZtHSD\")  …  OrderedDict{String,Any}(\"key\"=>\"19.55\",\"val\"=>372,\"id\"=>\"idtY72UbPp\"), OrderedDict{String,Any}(\"key\"=>\"19.6\",\"val\"=>373,\"id\"=>\"idRE2ITy0A\"), OrderedDict{String,Any}(\"key\"=>\"19.65\",\"val\"=>374,\"id\"=>\"idVyzax88T\"), OrderedDict{String,Any}(\"key\"=>\"19.7\",\"val\"=>375,\"id\"=>\"id7YCZYNEk\"), OrderedDict{String,Any}(\"key\"=>\"19.75\",\"val\"=>376,\"id\"=>\"idDFwb0Q5O\"), OrderedDict{String,Any}(\"key\"=>\"19.8\",\"val\"=>377,\"id\"=>\"idq8AV4EPS\"), OrderedDict{String,Any}(\"key\"=>\"19.85\",\"val\"=>378,\"id\"=>\"idhPkfYepJ\"), OrderedDict{String,Any}(\"key\"=>\"19.9\",\"val\"=>379,\"id\"=>\"idZ26GbA5c\"), OrderedDict{String,Any}(\"key\"=>\"19.95\",\"val\"=>380,\"id\"=>\"id7dWiAwUH\"), OrderedDict{String,Any}(\"key\"=>\"20.0\",\"val\"=>381,\"id\"=>\"idNdCJVdlI\")], nothing),\"index\"=>(Observable{Any} with 2 listeners. Value:\n",
       "1, nothing)), Set(String[]), nothing, Any[\"knockout\"=>\"/Users/aschenk/.julia/packages/Knockout/JE2Yq/src/../assets/knockout.js\", \"knockout_punches\"=>\"/Users/aschenk/.julia/packages/Knockout/JE2Yq/src/../assets/knockout_punches.js\", \"/Users/aschenk/.julia/packages/InteractBase/R8JgH/src/../assets/all.js\", \"/Users/aschenk/.julia/packages/InteractBase/R8JgH/src/../assets/style.css\", \"/Users/aschenk/.julia/packages/Interact/0klKX/src/../assets/bulma_confined.min.css\"], Dict{Any,Any}(\"_promises\"=>Dict{Any,Any}(\"importsLoaded\"=>Any[JSString(\"function (ko, koPunches) {\\n    ko.punches.enableAll();\\n    ko.bindingHandlers.numericValue = {\\n        init : function(element, valueAccessor, allBindings, data, context) {\\n            var stringified = ko.observable(ko.unwrap(valueAccessor()));\\n            stringified.subscribe(function(value) {\\n                var val = parseFloat(value);\\n                if (!isNaN(val)) {\\n                    valueAccessor()(val);\\n                }\\n            })\\n            valueAccessor().subscribe(function(value) {\\n                var str = JSON.stringify(value);\\n                if ((str == \\\"0\\\") && ([\\\"-0\\\", \\\"-0.\\\"].indexOf(stringified()) >= 0))\\n                     return;\\n                 if ([\\\"null\\\", \\\"\\\"].indexOf(str) >= 0)\\n                     return;\\n                stringified(str);\\n            })\\n            ko.applyBindingsToNode(element, { value: stringified, valueUpdate: allBindings.get('valueUpdate')}, context);\\n        }\\n    };\\n    var json_data = {\\\"options_js\\\":WebIO.getval({\\\"name\\\":\\\"options_js\\\",\\\"scope\\\":\\\"knockout-component-c399e862-806c-4e03-a49d-e73b036a874f\\\",\\\"id\\\":\\\"ob_20\\\",\\\"type\\\":\\\"observable\\\"}),\\\"index\\\":WebIO.getval({\\\"name\\\":\\\"index\\\",\\\"scope\\\":\\\"knockout-component-c399e862-806c-4e03-a49d-e73b036a874f\\\",\\\"id\\\":\\\"ob_19\\\",\\\"type\\\":\\\"observable\\\"})};\\n    var self = this;\\n    function AppViewModel() {\\n        for (var key in json_data) {\\n            var el = json_data[key];\\n            this[key] = Array.isArray(el) ? ko.observableArray(el) : ko.observable(el);\\n        }\\n        [this[\\\"disablePlaceholder\\\"]=function(option, item) {\\n    ko.applyBindingsToNode(option, {disable: item.val == 0}, item);\\n}\\n]\\n        \\n        [this[\\\"options_js\\\"].subscribe((function (val){!(this.valueFromJulia[\\\"options_js\\\"]) ? (WebIO.setval({\\\"name\\\":\\\"options_js\\\",\\\"scope\\\":\\\"knockout-component-c399e862-806c-4e03-a49d-e73b036a874f\\\",\\\"id\\\":\\\"ob_20\\\",\\\"type\\\":\\\"observable\\\"},val)) : undefined; return this.valueFromJulia[\\\"options_js\\\"]=false}),self),this[\\\"index\\\"].subscribe((function (val){!(this.valueFromJulia[\\\"index\\\"]) ? (WebIO.setval({\\\"name\\\":\\\"index\\\",\\\"scope\\\":\\\"knockout-component-c399e862-806c-4e03-a49d-e73b036a874f\\\",\\\"id\\\":\\\"ob_19\\\",\\\"type\\\":\\\"observable\\\"},val)) : undefined; return this.valueFromJulia[\\\"index\\\"]=false}),self)]\\n        \\n    }\\n    self.model = new AppViewModel();\\n    self.valueFromJulia = {};\\n    for (var key in json_data) {\\n        self.valueFromJulia[key] = false;\\n    }\\n    ko.applyBindings(self.model, self.dom);\\n}\\n\")]),\"options_js\"=>Any[JSString(\"(function (val){return (val!=this.model[\\\"options_js\\\"]()) ? (this.valueFromJulia[\\\"options_js\\\"]=true, this.model[\\\"options_js\\\"](val)) : undefined})\")],\"index\"=>Any[JSString(\"(function (val){return (val!=this.model[\\\"index\\\"]()) ? (this.valueFromJulia[\\\"index\\\"]=true, this.model[\\\"index\\\"](val)) : undefined})\")]), ConnectionPool(Channel{Any}(sz_max:9223372036854775807,sz_curr:2), Set(AbstractConnection[]), Channel{AbstractConnection}(sz_max:32,sz_curr:0)))], Dict{Symbol,Any}(:className=>\"field interact-widget\"), 1), Node{DOM}(DOM(:html, :div), Any[Scope(\"knockout-component-86dc8301-2696-4248-89b3-5848b02a701b\", Node{DOM}(DOM(:html, :div), Any[\"Smoothing radius\", Node{DOM}(DOM(:html, :div), Any[Node{DOM}(DOM(:html, :select), Any[], Dict{Symbol,Any}(:attributes=>Dict{Union{String, Symbol},Any}(Symbol(\"data-bind\")=>\"options : options_js, value : index, optionsText: 'key', optionsValue: 'val', valueAllowUnset: true, optionsAfterRender: disablePlaceholder\")), 0)], Dict{Symbol,Any}(:className=>\"select \"), 1)], Dict{Symbol,Any}(:style=>Dict(\"display\"=>\"flex\",\"flex-direction\"=>\"column\")), 3), Dict{String,Tuple{Observables.AbstractObservable,Union{Nothing, Bool}}}(\"options_js\"=>(Observable{Any} with 1 listeners. Value:\n",
       "OrderedDict[OrderedDict{String,Any}(\"key\"=>\"0.25\",\"val\"=>1,\"id\"=>\"idkAvbN6oD\"), OrderedDict{String,Any}(\"key\"=>\"0.5\",\"val\"=>2,\"id\"=>\"idfPvjAHN0\"), OrderedDict{String,Any}(\"key\"=>\"0.75\",\"val\"=>3,\"id\"=>\"idIK5IVZux\"), OrderedDict{String,Any}(\"key\"=>\"1.0\",\"val\"=>4,\"id\"=>\"idAhjZultu\"), OrderedDict{String,Any}(\"key\"=>\"1.25\",\"val\"=>5,\"id\"=>\"idOuR4kiNi\"), OrderedDict{String,Any}(\"key\"=>\"1.5\",\"val\"=>6,\"id\"=>\"idcNIKw7NV\"), OrderedDict{String,Any}(\"key\"=>\"1.75\",\"val\"=>7,\"id\"=>\"idCvgAZTPz\"), OrderedDict{String,Any}(\"key\"=>\"2.0\",\"val\"=>8,\"id\"=>\"idfgaWylQK\"), OrderedDict{String,Any}(\"key\"=>\"2.25\",\"val\"=>9,\"id\"=>\"idlPG37iMZ\"), OrderedDict{String,Any}(\"key\"=>\"2.5\",\"val\"=>10,\"id\"=>\"id3OcakZrr\")  …  OrderedDict{String,Any}(\"key\"=>\"12.75\",\"val\"=>51,\"id\"=>\"idB75gwbz7\"), OrderedDict{String,Any}(\"key\"=>\"13.0\",\"val\"=>52,\"id\"=>\"idrmiQ0viR\"), OrderedDict{String,Any}(\"key\"=>\"13.25\",\"val\"=>53,\"id\"=>\"idBWjz8nxf\"), OrderedDict{String,Any}(\"key\"=>\"13.5\",\"val\"=>54,\"id\"=>\"idzETb3sxK\"), OrderedDict{String,Any}(\"key\"=>\"13.75\",\"val\"=>55,\"id\"=>\"idYB5g5rOf\"), OrderedDict{String,Any}(\"key\"=>\"14.0\",\"val\"=>56,\"id\"=>\"idkWeemKGJ\"), OrderedDict{String,Any}(\"key\"=>\"14.25\",\"val\"=>57,\"id\"=>\"idtdbU5ZGe\"), OrderedDict{String,Any}(\"key\"=>\"14.5\",\"val\"=>58,\"id\"=>\"idc3zKREWv\"), OrderedDict{String,Any}(\"key\"=>\"14.75\",\"val\"=>59,\"id\"=>\"idbMz7598U\"), OrderedDict{String,Any}(\"key\"=>\"15.0\",\"val\"=>60,\"id\"=>\"idkcU7l0zt\")], nothing),\"index\"=>(Observable{Any} with 2 listeners. Value:\n",
       "32, nothing)), Set(String[]), nothing, Any[\"knockout\"=>\"/Users/aschenk/.julia/packages/Knockout/JE2Yq/src/../assets/knockout.js\", \"knockout_punches\"=>\"/Users/aschenk/.julia/packages/Knockout/JE2Yq/src/../assets/knockout_punches.js\", \"/Users/aschenk/.julia/packages/InteractBase/R8JgH/src/../assets/all.js\", \"/Users/aschenk/.julia/packages/InteractBase/R8JgH/src/../assets/style.css\", \"/Users/aschenk/.julia/packages/Interact/0klKX/src/../assets/bulma_confined.min.css\"], Dict{Any,Any}(\"_promises\"=>Dict{Any,Any}(\"importsLoaded\"=>Any[JSString(\"function (ko, koPunches) {\\n    ko.punches.enableAll();\\n    ko.bindingHandlers.numericValue = {\\n        init : function(element, valueAccessor, allBindings, data, context) {\\n            var stringified = ko.observable(ko.unwrap(valueAccessor()));\\n            stringified.subscribe(function(value) {\\n                var val = parseFloat(value);\\n                if (!isNaN(val)) {\\n                    valueAccessor()(val);\\n                }\\n            })\\n            valueAccessor().subscribe(function(value) {\\n                var str = JSON.stringify(value);\\n                if ((str == \\\"0\\\") && ([\\\"-0\\\", \\\"-0.\\\"].indexOf(stringified()) >= 0))\\n                     return;\\n                 if ([\\\"null\\\", \\\"\\\"].indexOf(str) >= 0)\\n                     return;\\n                stringified(str);\\n            })\\n            ko.applyBindingsToNode(element, { value: stringified, valueUpdate: allBindings.get('valueUpdate')}, context);\\n        }\\n    };\\n    var json_data = {\\\"options_js\\\":WebIO.getval({\\\"name\\\":\\\"options_js\\\",\\\"scope\\\":\\\"knockout-component-86dc8301-2696-4248-89b3-5848b02a701b\\\",\\\"id\\\":\\\"ob_25\\\",\\\"type\\\":\\\"observable\\\"}),\\\"index\\\":WebIO.getval({\\\"name\\\":\\\"index\\\",\\\"scope\\\":\\\"knockout-component-86dc8301-2696-4248-89b3-5848b02a701b\\\",\\\"id\\\":\\\"ob_24\\\",\\\"type\\\":\\\"observable\\\"})};\\n    var self = this;\\n    function AppViewModel() {\\n        for (var key in json_data) {\\n            var el = json_data[key];\\n            this[key] = Array.isArray(el) ? ko.observableArray(el) : ko.observable(el);\\n        }\\n        [this[\\\"disablePlaceholder\\\"]=function(option, item) {\\n    ko.applyBindingsToNode(option, {disable: item.val == 0}, item);\\n}\\n]\\n        \\n        [this[\\\"options_js\\\"].subscribe((function (val){!(this.valueFromJulia[\\\"options_js\\\"]) ? (WebIO.setval({\\\"name\\\":\\\"options_js\\\",\\\"scope\\\":\\\"knockout-component-86dc8301-2696-4248-89b3-5848b02a701b\\\",\\\"id\\\":\\\"ob_25\\\",\\\"type\\\":\\\"observable\\\"},val)) : undefined; return this.valueFromJulia[\\\"options_js\\\"]=false}),self),this[\\\"index\\\"].subscribe((function (val){!(this.valueFromJulia[\\\"index\\\"]) ? (WebIO.setval({\\\"name\\\":\\\"index\\\",\\\"scope\\\":\\\"knockout-component-86dc8301-2696-4248-89b3-5848b02a701b\\\",\\\"id\\\":\\\"ob_24\\\",\\\"type\\\":\\\"observable\\\"},val)) : undefined; return this.valueFromJulia[\\\"index\\\"]=false}),self)]\\n        \\n    }\\n    self.model = new AppViewModel();\\n    self.valueFromJulia = {};\\n    for (var key in json_data) {\\n        self.valueFromJulia[key] = false;\\n    }\\n    ko.applyBindings(self.model, self.dom);\\n}\\n\")]),\"options_js\"=>Any[JSString(\"(function (val){return (val!=this.model[\\\"options_js\\\"]()) ? (this.valueFromJulia[\\\"options_js\\\"]=true, this.model[\\\"options_js\\\"](val)) : undefined})\")],\"index\"=>Any[JSString(\"(function (val){return (val!=this.model[\\\"index\\\"]()) ? (this.valueFromJulia[\\\"index\\\"]=true, this.model[\\\"index\\\"](val)) : undefined})\")]), ConnectionPool(Channel{Any}(sz_max:9223372036854775807,sz_curr:2), Set(AbstractConnection[]), Channel{AbstractConnection}(sz_max:32,sz_curr:0)))], Dict{Symbol,Any}(:className=>\"field interact-widget\"), 1), Scope(\"knockout-component-f5edee7c-7c36-458b-b819-da0d34737813\", Node{DOM}(DOM(:html, :div), Any[Node{DOM}(DOM(:html, :div), Any[Node{DOM}(DOM(:html, :label), Any[\"plot_surface\"], Dict{Symbol,Any}(:className=>\"interact \",:style=>Dict{Any,Any}(:padding=>\"5px 10px 0px 10px\")), 1)], Dict{Symbol,Any}(:className=>\"interact-flex-row-left\"), 2), Node{DOM}(DOM(:html, :div), Any[Node{DOM}(DOM(:html, :div), Any[Node{DOM}(DOM(:html, :span), Any[Node{DOM}(DOM(:html, :label), Any[], Dict{Symbol,Any}(:attributes=>Dict(\"data-bind\"=>\"text : key\")), 0)], Dict{Symbol,Any}(:attributes=>Dict(\"data-bind\"=>\"click: function (){\\$root.update(val)}, css: {'is-primary is-selected' : \\$root.index() == val, 'interact-widget button ' : true}\")), 1)], Dict{Symbol,Any}(:attributes=>(\"data-bind\"=>\"foreach : options_js\"),:className=>\"buttons has-addons is-centered\"), 2)], Dict{Symbol,Any}(:className=>\"interact-flex-row-center\"), 3), Node{DOM}(DOM(:html, :div), Any[Node{DOM}(DOM(:html, :div), Any[], Dict{Symbol,Any}(), 0)], Dict{Symbol,Any}(:className=>\"interact-flex-row-right\"), 1)], Dict{Symbol,Any}(:className=>\"interact-flex-row interact-widget\"), 9), Dict{String,Tuple{Observables.AbstractObservable,Union{Nothing, Bool}}}(\"options_js\"=>(Observable{Any} with 1 listeners. Value:\n",
       "OrderedDict[OrderedDict{String,Any}(\"key\"=>\"true\",\"val\"=>1,\"id\"=>\"idZtKlCh0s\"), OrderedDict{String,Any}(\"key\"=>\"false\",\"val\"=>2,\"id\"=>\"idP3DbOtHk\")], nothing),\"index\"=>(Observable{Any} with 2 listeners. Value:\n",
       "1, nothing)), Set(String[]), nothing, Any[\"knockout\"=>\"/Users/aschenk/.julia/packages/Knockout/JE2Yq/src/../assets/knockout.js\", \"knockout_punches\"=>\"/Users/aschenk/.julia/packages/Knockout/JE2Yq/src/../assets/knockout_punches.js\", \"/Users/aschenk/.julia/packages/InteractBase/R8JgH/src/../assets/all.js\", \"/Users/aschenk/.julia/packages/InteractBase/R8JgH/src/../assets/style.css\", \"/Users/aschenk/.julia/packages/Interact/0klKX/src/../assets/bulma_confined.min.css\"], Dict{Any,Any}(\"_promises\"=>Dict{Any,Any}(\"importsLoaded\"=>Any[JSString(\"function (ko, koPunches) {\\n    ko.punches.enableAll();\\n    ko.bindingHandlers.numericValue = {\\n        init : function(element, valueAccessor, allBindings, data, context) {\\n            var stringified = ko.observable(ko.unwrap(valueAccessor()));\\n            stringified.subscribe(function(value) {\\n                var val = parseFloat(value);\\n                if (!isNaN(val)) {\\n                    valueAccessor()(val);\\n                }\\n            })\\n            valueAccessor().subscribe(function(value) {\\n                var str = JSON.stringify(value);\\n                if ((str == \\\"0\\\") && ([\\\"-0\\\", \\\"-0.\\\"].indexOf(stringified()) >= 0))\\n                     return;\\n                 if ([\\\"null\\\", \\\"\\\"].indexOf(str) >= 0)\\n                     return;\\n                stringified(str);\\n            })\\n            ko.applyBindingsToNode(element, { value: stringified, valueUpdate: allBindings.get('valueUpdate')}, context);\\n        }\\n    };\\n    var json_data = {\\\"options_js\\\":WebIO.getval({\\\"name\\\":\\\"options_js\\\",\\\"scope\\\":\\\"knockout-component-f5edee7c-7c36-458b-b819-da0d34737813\\\",\\\"id\\\":\\\"ob_30\\\",\\\"type\\\":\\\"observable\\\"}),\\\"index\\\":WebIO.getval({\\\"name\\\":\\\"index\\\",\\\"scope\\\":\\\"knockout-component-f5edee7c-7c36-458b-b819-da0d34737813\\\",\\\"id\\\":\\\"ob_29\\\",\\\"type\\\":\\\"observable\\\"})};\\n    var self = this;\\n    function AppViewModel() {\\n        for (var key in json_data) {\\n            var el = json_data[key];\\n            this[key] = Array.isArray(el) ? ko.observableArray(el) : ko.observable(el);\\n        }\\n        [this[\\\"update\\\"]=function (val) {this.index(val)}]\\n        \\n        [this[\\\"options_js\\\"].subscribe((function (val){!(this.valueFromJulia[\\\"options_js\\\"]) ? (WebIO.setval({\\\"name\\\":\\\"options_js\\\",\\\"scope\\\":\\\"knockout-component-f5edee7c-7c36-458b-b819-da0d34737813\\\",\\\"id\\\":\\\"ob_30\\\",\\\"type\\\":\\\"observable\\\"},val)) : undefined; return this.valueFromJulia[\\\"options_js\\\"]=false}),self),this[\\\"index\\\"].subscribe((function (val){!(this.valueFromJulia[\\\"index\\\"]) ? (WebIO.setval({\\\"name\\\":\\\"index\\\",\\\"scope\\\":\\\"knockout-component-f5edee7c-7c36-458b-b819-da0d34737813\\\",\\\"id\\\":\\\"ob_29\\\",\\\"type\\\":\\\"observable\\\"},val)) : undefined; return this.valueFromJulia[\\\"index\\\"]=false}),self)]\\n        \\n    }\\n    self.model = new AppViewModel();\\n    self.valueFromJulia = {};\\n    for (var key in json_data) {\\n        self.valueFromJulia[key] = false;\\n    }\\n    ko.applyBindings(self.model, self.dom);\\n}\\n\")]),\"options_js\"=>Any[JSString(\"(function (val){return (val!=this.model[\\\"options_js\\\"]()) ? (this.valueFromJulia[\\\"options_js\\\"]=true, this.model[\\\"options_js\\\"](val)) : undefined})\")],\"index\"=>Any[JSString(\"(function (val){return (val!=this.model[\\\"index\\\"]()) ? (this.valueFromJulia[\\\"index\\\"]=true, this.model[\\\"index\\\"](val)) : undefined})\")]), ConnectionPool(Channel{Any}(sz_max:9223372036854775807,sz_curr:2), Set(AbstractConnection[]), Channel{AbstractConnection}(sz_max:32,sz_curr:0))), Scope(\"knockout-component-326f51fd-d9f6-43c3-80c2-a1c5b9020e18\", Node{DOM}(DOM(:html, :div), Any[Node{DOM}(DOM(:html, :div), Any[Node{DOM}(DOM(:html, :label), Any[\"actwireframe\"], Dict{Symbol,Any}(:className=>\"interact \",:style=>Dict{Any,Any}(:padding=>\"5px 10px 0px 10px\")), 1)], Dict{Symbol,Any}(:className=>\"interact-flex-row-left\"), 2), Node{DOM}(DOM(:html, :div), Any[Node{DOM}(DOM(:html, :div), Any[Node{DOM}(DOM(:html, :span), Any[Node{DOM}(DOM(:html, :label), Any[], Dict{Symbol,Any}(:attributes=>Dict(\"data-bind\"=>\"text : key\")), 0)], Dict{Symbol,Any}(:attributes=>Dict(\"data-bind\"=>\"click: function (){\\$root.update(val)}, css: {'is-primary is-selected' : \\$root.index() == val, 'interact-widget button ' : true}\")), 1)], Dict{Symbol,Any}(:attributes=>(\"data-bind\"=>\"foreach : options_js\"),:className=>\"buttons has-addons is-centered\"), 2)], Dict{Symbol,Any}(:className=>\"interact-flex-row-center\"), 3), Node{DOM}(DOM(:html, :div), Any[Node{DOM}(DOM(:html, :div), Any[], Dict{Symbol,Any}(), 0)], Dict{Symbol,Any}(:className=>\"interact-flex-row-right\"), 1)], Dict{Symbol,Any}(:className=>\"interact-flex-row interact-widget\"), 9), Dict{String,Tuple{Observables.AbstractObservable,Union{Nothing, Bool}}}(\"options_js\"=>(Observable{Any} with 1 listeners. Value:\n",
       "OrderedDict[OrderedDict{String,Any}(\"key\"=>\"false\",\"val\"=>1,\"id\"=>\"idsWvUvbyQ\"), OrderedDict{String,Any}(\"key\"=>\"true\",\"val\"=>2,\"id\"=>\"idzeHW6G0D\")], nothing),\"index\"=>(Observable{Any} with 2 listeners. Value:\n",
       "1, nothing)), Set(String[]), nothing, Any[\"knockout\"=>\"/Users/aschenk/.julia/packages/Knockout/JE2Yq/src/../assets/knockout.js\", \"knockout_punches\"=>\"/Users/aschenk/.julia/packages/Knockout/JE2Yq/src/../assets/knockout_punches.js\", \"/Users/aschenk/.julia/packages/InteractBase/R8JgH/src/../assets/all.js\", \"/Users/aschenk/.julia/packages/InteractBase/R8JgH/src/../assets/style.css\", \"/Users/aschenk/.julia/packages/Interact/0klKX/src/../assets/bulma_confined.min.css\"], Dict{Any,Any}(\"_promises\"=>Dict{Any,Any}(\"importsLoaded\"=>Any[JSString(\"function (ko, koPunches) {\\n    ko.punches.enableAll();\\n    ko.bindingHandlers.numericValue = {\\n        init : function(element, valueAccessor, allBindings, data, context) {\\n            var stringified = ko.observable(ko.unwrap(valueAccessor()));\\n            stringified.subscribe(function(value) {\\n                var val = parseFloat(value);\\n                if (!isNaN(val)) {\\n                    valueAccessor()(val);\\n                }\\n            })\\n            valueAccessor().subscribe(function(value) {\\n                var str = JSON.stringify(value);\\n                if ((str == \\\"0\\\") && ([\\\"-0\\\", \\\"-0.\\\"].indexOf(stringified()) >= 0))\\n                     return;\\n                 if ([\\\"null\\\", \\\"\\\"].indexOf(str) >= 0)\\n                     return;\\n                stringified(str);\\n            })\\n            ko.applyBindingsToNode(element, { value: stringified, valueUpdate: allBindings.get('valueUpdate')}, context);\\n        }\\n    };\\n    var json_data = {\\\"options_js\\\":WebIO.getval({\\\"name\\\":\\\"options_js\\\",\\\"scope\\\":\\\"knockout-component-326f51fd-d9f6-43c3-80c2-a1c5b9020e18\\\",\\\"id\\\":\\\"ob_35\\\",\\\"type\\\":\\\"observable\\\"}),\\\"index\\\":WebIO.getval({\\\"name\\\":\\\"index\\\",\\\"scope\\\":\\\"knockout-component-326f51fd-d9f6-43c3-80c2-a1c5b9020e18\\\",\\\"id\\\":\\\"ob_34\\\",\\\"type\\\":\\\"observable\\\"})};\\n    var self = this;\\n    function AppViewModel() {\\n        for (var key in json_data) {\\n            var el = json_data[key];\\n            this[key] = Array.isArray(el) ? ko.observableArray(el) : ko.observable(el);\\n        }\\n        [this[\\\"update\\\"]=function (val) {this.index(val)}]\\n        \\n        [this[\\\"options_js\\\"].subscribe((function (val){!(this.valueFromJulia[\\\"options_js\\\"]) ? (WebIO.setval({\\\"name\\\":\\\"options_js\\\",\\\"scope\\\":\\\"knockout-component-326f51fd-d9f6-43c3-80c2-a1c5b9020e18\\\",\\\"id\\\":\\\"ob_35\\\",\\\"type\\\":\\\"observable\\\"},val)) : undefined; return this.valueFromJulia[\\\"options_js\\\"]=false}),self),this[\\\"index\\\"].subscribe((function (val){!(this.valueFromJulia[\\\"index\\\"]) ? (WebIO.setval({\\\"name\\\":\\\"index\\\",\\\"scope\\\":\\\"knockout-component-326f51fd-d9f6-43c3-80c2-a1c5b9020e18\\\",\\\"id\\\":\\\"ob_34\\\",\\\"type\\\":\\\"observable\\\"},val)) : undefined; return this.valueFromJulia[\\\"index\\\"]=false}),self)]\\n        \\n    }\\n    self.model = new AppViewModel();\\n    self.valueFromJulia = {};\\n    for (var key in json_data) {\\n        self.valueFromJulia[key] = false;\\n    }\\n    ko.applyBindings(self.model, self.dom);\\n}\\n\")]),\"options_js\"=>Any[JSString(\"(function (val){return (val!=this.model[\\\"options_js\\\"]()) ? (this.valueFromJulia[\\\"options_js\\\"]=true, this.model[\\\"options_js\\\"](val)) : undefined})\")],\"index\"=>Any[JSString(\"(function (val){return (val!=this.model[\\\"index\\\"]()) ? (this.valueFromJulia[\\\"index\\\"]=true, this.model[\\\"index\\\"](val)) : undefined})\")]), ConnectionPool(Channel{Any}(sz_max:9223372036854775807,sz_curr:2), Set(AbstractConnection[]), Channel{AbstractConnection}(sz_max:32,sz_curr:0))), Node{DOM}(DOM(:html, :div), Any[Scope(\"knockout-component-62fee5ed-28e6-45c9-826b-063b2bba121a\", Node{DOM}(DOM(:html, :div), Any[Node{DOM}(DOM(:html, :div), Any[Node{DOM}(DOM(:html, :label), Any[\"rotor\"], Dict{Symbol,Any}(:className=>\"interact \",:style=>Dict{Any,Any}(:padding=>\"5px 10px 0px 10px\")), 1)], Dict{Symbol,Any}(:className=>\"interact-flex-row-left\"), 2), Node{DOM}(DOM(:html, :div), Any[Node{DOM}(DOM(:html, :input), Any[], Dict{Symbol,Any}(:max=>2,:min=>1,:attributes=>Dict{Any,Any}(:type=>\"range\",Symbol(\"data-bind\")=>\"numericValue: index, valueUpdate: 'input', event: {change: function (){this.changes(this.changes()+1)}}\",\"orient\"=>\"horizontal\"),:step=>1,:className=>\"slider slider is-fullwidth\",:style=>Dict{Any,Any}()), 0)], Dict{Symbol,Any}(:className=>\"interact-flex-row-center\"), 1), Node{DOM}(DOM(:html, :div), Any[Node{DOM}(DOM(:html, :p), Any[], Dict{Symbol,Any}(:attributes=>Dict(\"data-bind\"=>\"text: formatted_val\")), 0)], Dict{Symbol,Any}(:className=>\"interact-flex-row-right\"), 1)], Dict{Symbol,Any}(:className=>\"interact-flex-row interact-widget\"), 7), Dict{String,Tuple{Observables.AbstractObservable,Union{Nothing, Bool}}}(\"changes\"=>(Observable{Int64} with 1 listeners. Value:\n",
       "0, nothing),\"index\"=>(Observable{Any} with 2 listeners. Value:\n",
       "1, nothing)), Set(String[]), nothing, Any[\"knockout\"=>\"/Users/aschenk/.julia/packages/Knockout/JE2Yq/src/../assets/knockout.js\", \"knockout_punches\"=>\"/Users/aschenk/.julia/packages/Knockout/JE2Yq/src/../assets/knockout_punches.js\", \"/Users/aschenk/.julia/packages/InteractBase/R8JgH/src/../assets/all.js\", \"/Users/aschenk/.julia/packages/InteractBase/R8JgH/src/../assets/style.css\", \"/Users/aschenk/.julia/packages/Interact/0klKX/src/../assets/bulma_confined.min.css\"], Dict{Any,Any}(\"_promises\"=>Dict{Any,Any}(\"importsLoaded\"=>Any[JSString(\"function (ko, koPunches) {\\n    ko.punches.enableAll();\\n    ko.bindingHandlers.numericValue = {\\n        init : function(element, valueAccessor, allBindings, data, context) {\\n            var stringified = ko.observable(ko.unwrap(valueAccessor()));\\n            stringified.subscribe(function(value) {\\n                var val = parseFloat(value);\\n                if (!isNaN(val)) {\\n                    valueAccessor()(val);\\n                }\\n            })\\n            valueAccessor().subscribe(function(value) {\\n                var str = JSON.stringify(value);\\n                if ((str == \\\"0\\\") && ([\\\"-0\\\", \\\"-0.\\\"].indexOf(stringified()) >= 0))\\n                     return;\\n                 if ([\\\"null\\\", \\\"\\\"].indexOf(str) >= 0)\\n                     return;\\n                stringified(str);\\n            })\\n            ko.applyBindingsToNode(element, { value: stringified, valueUpdate: allBindings.get('valueUpdate')}, context);\\n        }\\n    };\\n    var json_data = {\\\"formatted_vals\\\":[\\\"1\\\",\\\"2\\\"],\\\"changes\\\":WebIO.getval({\\\"name\\\":\\\"changes\\\",\\\"scope\\\":\\\"knockout-component-62fee5ed-28e6-45c9-826b-063b2bba121a\\\",\\\"id\\\":\\\"ob_38\\\",\\\"type\\\":\\\"observable\\\"}),\\\"index\\\":WebIO.getval({\\\"name\\\":\\\"index\\\",\\\"scope\\\":\\\"knockout-component-62fee5ed-28e6-45c9-826b-063b2bba121a\\\",\\\"id\\\":\\\"ob_37\\\",\\\"type\\\":\\\"observable\\\"})};\\n    var self = this;\\n    function AppViewModel() {\\n        for (var key in json_data) {\\n            var el = json_data[key];\\n            this[key] = Array.isArray(el) ? ko.observableArray(el) : ko.observable(el);\\n        }\\n        \\n        [this[\\\"formatted_val\\\"]=ko.computed(    function(){\\n        return this.formatted_vals()[parseInt(this.index())-1];\\n    }\\n,this)]\\n        [this[\\\"changes\\\"].subscribe((function (val){!(this.valueFromJulia[\\\"changes\\\"]) ? (WebIO.setval({\\\"name\\\":\\\"changes\\\",\\\"scope\\\":\\\"knockout-component-62fee5ed-28e6-45c9-826b-063b2bba121a\\\",\\\"id\\\":\\\"ob_38\\\",\\\"type\\\":\\\"observable\\\"},val)) : undefined; return this.valueFromJulia[\\\"changes\\\"]=false}),self),this[\\\"index\\\"].subscribe((function (val){!(this.valueFromJulia[\\\"index\\\"]) ? (WebIO.setval({\\\"name\\\":\\\"index\\\",\\\"scope\\\":\\\"knockout-component-62fee5ed-28e6-45c9-826b-063b2bba121a\\\",\\\"id\\\":\\\"ob_37\\\",\\\"type\\\":\\\"observable\\\"},val)) : undefined; return this.valueFromJulia[\\\"index\\\"]=false}),self)]\\n        \\n    }\\n    self.model = new AppViewModel();\\n    self.valueFromJulia = {};\\n    for (var key in json_data) {\\n        self.valueFromJulia[key] = false;\\n    }\\n    ko.applyBindings(self.model, self.dom);\\n}\\n\")]),\"changes\"=>Any[JSString(\"(function (val){return (val!=this.model[\\\"changes\\\"]()) ? (this.valueFromJulia[\\\"changes\\\"]=true, this.model[\\\"changes\\\"](val)) : undefined})\")],\"index\"=>Any[JSString(\"(function (val){return (val!=this.model[\\\"index\\\"]()) ? (this.valueFromJulia[\\\"index\\\"]=true, this.model[\\\"index\\\"](val)) : undefined})\")]), ConnectionPool(Channel{Any}(sz_max:9223372036854775807,sz_curr:2), Set(AbstractConnection[]), Channel{AbstractConnection}(sz_max:32,sz_curr:0)))], Dict{Symbol,Any}(:className=>\"field interact-widget\"), 1), Scope(\"knockout-component-2aa125ec-cab3-4d12-bfda-ef708dc48df5\", Node{DOM}(DOM(:html, :div), Any[Node{DOM}(DOM(:html, :div), Any[Node{DOM}(DOM(:html, :label), Any[\"corrotating\"], Dict{Symbol,Any}(:className=>\"interact \",:style=>Dict{Any,Any}(:padding=>\"5px 10px 0px 10px\")), 1)], Dict{Symbol,Any}(:className=>\"interact-flex-row-left\"), 2), Node{DOM}(DOM(:html, :div), Any[Node{DOM}(DOM(:html, :div), Any[Node{DOM}(DOM(:html, :span), Any[Node{DOM}(DOM(:html, :label), Any[], Dict{Symbol,Any}(:attributes=>Dict(\"data-bind\"=>\"text : key\")), 0)], Dict{Symbol,Any}(:attributes=>Dict(\"data-bind\"=>\"click: function (){\\$root.update(val)}, css: {'is-primary is-selected' : \\$root.index() == val, 'interact-widget button ' : true}\")), 1)], Dict{Symbol,Any}(:attributes=>(\"data-bind\"=>\"foreach : options_js\"),:className=>\"buttons has-addons is-centered\"), 2)], Dict{Symbol,Any}(:className=>\"interact-flex-row-center\"), 3), Node{DOM}(DOM(:html, :div), Any[Node{DOM}(DOM(:html, :div), Any[], Dict{Symbol,Any}(), 0)], Dict{Symbol,Any}(:className=>\"interact-flex-row-right\"), 1)], Dict{Symbol,Any}(:className=>\"interact-flex-row interact-widget\"), 9), Dict{String,Tuple{Observables.AbstractObservable,Union{Nothing, Bool}}}(\"options_js\"=>(Observable{Any} with 1 listeners. Value:\n",
       "OrderedDict[OrderedDict{String,Any}(\"key\"=>\"false\",\"val\"=>1,\"id\"=>\"idVzOqJmvI\"), OrderedDict{String,Any}(\"key\"=>\"true\",\"val\"=>2,\"id\"=>\"idXelts7wM\")], nothing),\"index\"=>(Observable{Any} with 2 listeners. Value:\n",
       "1, nothing)), Set(String[]), nothing, Any[\"knockout\"=>\"/Users/aschenk/.julia/packages/Knockout/JE2Yq/src/../assets/knockout.js\", \"knockout_punches\"=>\"/Users/aschenk/.julia/packages/Knockout/JE2Yq/src/../assets/knockout_punches.js\", \"/Users/aschenk/.julia/packages/InteractBase/R8JgH/src/../assets/all.js\", \"/Users/aschenk/.julia/packages/InteractBase/R8JgH/src/../assets/style.css\", \"/Users/aschenk/.julia/packages/Interact/0klKX/src/../assets/bulma_confined.min.css\"], Dict{Any,Any}(\"_promises\"=>Dict{Any,Any}(\"importsLoaded\"=>Any[JSString(\"function (ko, koPunches) {\\n    ko.punches.enableAll();\\n    ko.bindingHandlers.numericValue = {\\n        init : function(element, valueAccessor, allBindings, data, context) {\\n            var stringified = ko.observable(ko.unwrap(valueAccessor()));\\n            stringified.subscribe(function(value) {\\n                var val = parseFloat(value);\\n                if (!isNaN(val)) {\\n                    valueAccessor()(val);\\n                }\\n            })\\n            valueAccessor().subscribe(function(value) {\\n                var str = JSON.stringify(value);\\n                if ((str == \\\"0\\\") && ([\\\"-0\\\", \\\"-0.\\\"].indexOf(stringified()) >= 0))\\n                     return;\\n                 if ([\\\"null\\\", \\\"\\\"].indexOf(str) >= 0)\\n                     return;\\n                stringified(str);\\n            })\\n            ko.applyBindingsToNode(element, { value: stringified, valueUpdate: allBindings.get('valueUpdate')}, context);\\n        }\\n    };\\n    var json_data = {\\\"options_js\\\":WebIO.getval({\\\"name\\\":\\\"options_js\\\",\\\"scope\\\":\\\"knockout-component-2aa125ec-cab3-4d12-bfda-ef708dc48df5\\\",\\\"id\\\":\\\"ob_43\\\",\\\"type\\\":\\\"observable\\\"}),\\\"index\\\":WebIO.getval({\\\"name\\\":\\\"index\\\",\\\"scope\\\":\\\"knockout-component-2aa125ec-cab3-4d12-bfda-ef708dc48df5\\\",\\\"id\\\":\\\"ob_42\\\",\\\"type\\\":\\\"observable\\\"})};\\n    var self = this;\\n    function AppViewModel() {\\n        for (var key in json_data) {\\n            var el = json_data[key];\\n            this[key] = Array.isArray(el) ? ko.observableArray(el) : ko.observable(el);\\n        }\\n        [this[\\\"update\\\"]=function (val) {this.index(val)}]\\n        \\n        [this[\\\"options_js\\\"].subscribe((function (val){!(this.valueFromJulia[\\\"options_js\\\"]) ? (WebIO.setval({\\\"name\\\":\\\"options_js\\\",\\\"scope\\\":\\\"knockout-component-2aa125ec-cab3-4d12-bfda-ef708dc48df5\\\",\\\"id\\\":\\\"ob_43\\\",\\\"type\\\":\\\"observable\\\"},val)) : undefined; return this.valueFromJulia[\\\"options_js\\\"]=false}),self),this[\\\"index\\\"].subscribe((function (val){!(this.valueFromJulia[\\\"index\\\"]) ? (WebIO.setval({\\\"name\\\":\\\"index\\\",\\\"scope\\\":\\\"knockout-component-2aa125ec-cab3-4d12-bfda-ef708dc48df5\\\",\\\"id\\\":\\\"ob_42\\\",\\\"type\\\":\\\"observable\\\"},val)) : undefined; return this.valueFromJulia[\\\"index\\\"]=false}),self)]\\n        \\n    }\\n    self.model = new AppViewModel();\\n    self.valueFromJulia = {};\\n    for (var key in json_data) {\\n        self.valueFromJulia[key] = false;\\n    }\\n    ko.applyBindings(self.model, self.dom);\\n}\\n\")]),\"options_js\"=>Any[JSString(\"(function (val){return (val!=this.model[\\\"options_js\\\"]()) ? (this.valueFromJulia[\\\"options_js\\\"]=true, this.model[\\\"options_js\\\"](val)) : undefined})\")],\"index\"=>Any[JSString(\"(function (val){return (val!=this.model[\\\"index\\\"]()) ? (this.valueFromJulia[\\\"index\\\"]=true, this.model[\\\"index\\\"](val)) : undefined})\")]), ConnectionPool(Channel{Any}(sz_max:9223372036854775807,sz_curr:2), Set(AbstractConnection[]), Channel{AbstractConnection}(sz_max:32,sz_curr:0))), Node{DOM}(DOM(:html, :div), Any[Scope(\"knockout-component-ff384bae-e306-4256-916a-2b5e27a03f74\", Node{DOM}(DOM(:html, :div), Any[Node{DOM}(DOM(:html, :div), Any[Node{DOM}(DOM(:html, :label), Any[\"Re\"], Dict{Symbol,Any}(:className=>\"interact \",:style=>Dict{Any,Any}(:padding=>\"5px 10px 0px 10px\")), 1)], Dict{Symbol,Any}(:className=>\"interact-flex-row-left\"), 2), Node{DOM}(DOM(:html, :div), Any[Node{DOM}(DOM(:html, :input), Any[], Dict{Symbol,Any}(:max=>4,:min=>1,:attributes=>Dict{Any,Any}(:type=>\"range\",Symbol(\"data-bind\")=>\"numericValue: index, valueUpdate: 'input', event: {change: function (){this.changes(this.changes()+1)}}\",\"orient\"=>\"horizontal\"),:step=>1,:className=>\"slider slider is-fullwidth\",:style=>Dict{Any,Any}()), 0)], Dict{Symbol,Any}(:className=>\"interact-flex-row-center\"), 1), Node{DOM}(DOM(:html, :div), Any[Node{DOM}(DOM(:html, :p), Any[], Dict{Symbol,Any}(:attributes=>Dict(\"data-bind\"=>\"text: formatted_val\")), 0)], Dict{Symbol,Any}(:className=>\"interact-flex-row-right\"), 1)], Dict{Symbol,Any}(:className=>\"interact-flex-row interact-widget\"), 7), Dict{String,Tuple{Observables.AbstractObservable,Union{Nothing, Bool}}}(\"changes\"=>(Observable{Int64} with 1 listeners. Value:\n",
       "0, nothing),\"index\"=>(Observable{Any} with 2 listeners. Value:\n",
       "2, nothing)), Set(String[]), nothing, Any[\"knockout\"=>\"/Users/aschenk/.julia/packages/Knockout/JE2Yq/src/../assets/knockout.js\", \"knockout_punches\"=>\"/Users/aschenk/.julia/packages/Knockout/JE2Yq/src/../assets/knockout_punches.js\", \"/Users/aschenk/.julia/packages/InteractBase/R8JgH/src/../assets/all.js\", \"/Users/aschenk/.julia/packages/InteractBase/R8JgH/src/../assets/style.css\", \"/Users/aschenk/.julia/packages/Interact/0klKX/src/../assets/bulma_confined.min.css\"], Dict{Any,Any}(\"_promises\"=>Dict{Any,Any}(\"importsLoaded\"=>Any[JSString(\"function (ko, koPunches) {\\n    ko.punches.enableAll();\\n    ko.bindingHandlers.numericValue = {\\n        init : function(element, valueAccessor, allBindings, data, context) {\\n            var stringified = ko.observable(ko.unwrap(valueAccessor()));\\n            stringified.subscribe(function(value) {\\n                var val = parseFloat(value);\\n                if (!isNaN(val)) {\\n                    valueAccessor()(val);\\n                }\\n            })\\n            valueAccessor().subscribe(function(value) {\\n                var str = JSON.stringify(value);\\n                if ((str == \\\"0\\\") && ([\\\"-0\\\", \\\"-0.\\\"].indexOf(stringified()) >= 0))\\n                     return;\\n                 if ([\\\"null\\\", \\\"\\\"].indexOf(str) >= 0)\\n                     return;\\n                stringified(str);\\n            })\\n            ko.applyBindingsToNode(element, { value: stringified, valueUpdate: allBindings.get('valueUpdate')}, context);\\n        }\\n    };\\n    var json_data = {\\\"formatted_vals\\\":[\\\"100000.0\\\",\\\"500000.0\\\",\\\"1.0e6\\\",\\\"1.5e6\\\"],\\\"changes\\\":WebIO.getval({\\\"name\\\":\\\"changes\\\",\\\"scope\\\":\\\"knockout-component-ff384bae-e306-4256-916a-2b5e27a03f74\\\",\\\"id\\\":\\\"ob_46\\\",\\\"type\\\":\\\"observable\\\"}),\\\"index\\\":WebIO.getval({\\\"name\\\":\\\"index\\\",\\\"scope\\\":\\\"knockout-component-ff384bae-e306-4256-916a-2b5e27a03f74\\\",\\\"id\\\":\\\"ob_45\\\",\\\"type\\\":\\\"observable\\\"})};\\n    var self = this;\\n    function AppViewModel() {\\n        for (var key in json_data) {\\n            var el = json_data[key];\\n            this[key] = Array.isArray(el) ? ko.observableArray(el) : ko.observable(el);\\n        }\\n        \\n        [this[\\\"formatted_val\\\"]=ko.computed(    function(){\\n        return this.formatted_vals()[parseInt(this.index())-1];\\n    }\\n,this)]\\n        [this[\\\"changes\\\"].subscribe((function (val){!(this.valueFromJulia[\\\"changes\\\"]) ? (WebIO.setval({\\\"name\\\":\\\"changes\\\",\\\"scope\\\":\\\"knockout-component-ff384bae-e306-4256-916a-2b5e27a03f74\\\",\\\"id\\\":\\\"ob_46\\\",\\\"type\\\":\\\"observable\\\"},val)) : undefined; return this.valueFromJulia[\\\"changes\\\"]=false}),self),this[\\\"index\\\"].subscribe((function (val){!(this.valueFromJulia[\\\"index\\\"]) ? (WebIO.setval({\\\"name\\\":\\\"index\\\",\\\"scope\\\":\\\"knockout-component-ff384bae-e306-4256-916a-2b5e27a03f74\\\",\\\"id\\\":\\\"ob_45\\\",\\\"type\\\":\\\"observable\\\"},val)) : undefined; return this.valueFromJulia[\\\"index\\\"]=false}),self)]\\n        \\n    }\\n    self.model = new AppViewModel();\\n    self.valueFromJulia = {};\\n    for (var key in json_data) {\\n        self.valueFromJulia[key] = false;\\n    }\\n    ko.applyBindings(self.model, self.dom);\\n}\\n\")]),\"changes\"=>Any[JSString(\"(function (val){return (val!=this.model[\\\"changes\\\"]()) ? (this.valueFromJulia[\\\"changes\\\"]=true, this.model[\\\"changes\\\"](val)) : undefined})\")],\"index\"=>Any[JSString(\"(function (val){return (val!=this.model[\\\"index\\\"]()) ? (this.valueFromJulia[\\\"index\\\"]=true, this.model[\\\"index\\\"](val)) : undefined})\")]), ConnectionPool(Channel{Any}(sz_max:9223372036854775807,sz_curr:2), Set(AbstractConnection[]), Channel{AbstractConnection}(sz_max:32,sz_curr:0)))], Dict{Symbol,Any}(:className=>\"field interact-widget\"), 1), Scope(\"knockout-component-822b989e-a6c9-4882-b9e1-8c09ec66dedf\", Node{DOM}(DOM(:html, :div), Any[Node{DOM}(DOM(:html, :div), Any[Node{DOM}(DOM(:html, :label), Any[\"zaxis\"], Dict{Symbol,Any}(:className=>\"interact \",:style=>Dict{Any,Any}(:padding=>\"5px 10px 0px 10px\")), 1)], Dict{Symbol,Any}(:className=>\"interact-flex-row-left\"), 2), Node{DOM}(DOM(:html, :div), Any[Node{DOM}(DOM(:html, :div), Any[Node{DOM}(DOM(:html, :span), Any[Node{DOM}(DOM(:html, :label), Any[], Dict{Symbol,Any}(:attributes=>Dict(\"data-bind\"=>\"text : key\")), 0)], Dict{Symbol,Any}(:attributes=>Dict(\"data-bind\"=>\"click: function (){\\$root.update(val)}, css: {'is-primary is-selected' : \\$root.index() == val, 'interact-widget button ' : true}\")), 1)], Dict{Symbol,Any}(:attributes=>(\"data-bind\"=>\"foreach : options_js\"),:className=>\"buttons has-addons is-centered\"), 2)], Dict{Symbol,Any}(:className=>\"interact-flex-row-center\"), 3), Node{DOM}(DOM(:html, :div), Any[Node{DOM}(DOM(:html, :div), Any[], Dict{Symbol,Any}(), 0)], Dict{Symbol,Any}(:className=>\"interact-flex-row-right\"), 1)], Dict{Symbol,Any}(:className=>\"interact-flex-row interact-widget\"), 9), Dict{String,Tuple{Observables.AbstractObservable,Union{Nothing, Bool}}}(\"options_js\"=>(Observable{Any} with 1 listeners. Value:\n",
       "OrderedDict[OrderedDict{String,Any}(\"key\"=>\"normCT_mean\",\"val\"=>1,\"id\"=>\"idWtrg1vGA\"), OrderedDict{String,Any}(\"key\"=>\"normCQ_mean\",\"val\"=>2,\"id\"=>\"id6IR98ELe\"), OrderedDict{String,Any}(\"key\"=>\"normeta_mean\",\"val\"=>3,\"id\"=>\"idKhrp2Jlt\"), OrderedDict{String,Any}(\"key\"=>\"normCT_std\",\"val\"=>4,\"id\"=>\"idzFoCxf7w\"), OrderedDict{String,Any}(\"key\"=>\"normCQ_std\",\"val\"=>5,\"id\"=>\"id7zmrV1Vz\"), OrderedDict{String,Any}(\"key\"=>\"normeta_std\",\"val\"=>6,\"id\"=>\"idiovZo6Iz\"), OrderedDict{String,Any}(\"key\"=>\"CT_mean\",\"val\"=>7,\"id\"=>\"idHXP6JYOo\"), OrderedDict{String,Any}(\"key\"=>\"CQ_mean\",\"val\"=>8,\"id\"=>\"id71vZo9Cb\"), OrderedDict{String,Any}(\"key\"=>\"eta_mean\",\"val\"=>9,\"id\"=>\"idJjG7mwB2\"), OrderedDict{String,Any}(\"key\"=>\"CT_std\",\"val\"=>10,\"id\"=>\"idTjKzkbRX\"), OrderedDict{String,Any}(\"key\"=>\"CQ_std\",\"val\"=>11,\"id\"=>\"idiS1ioubX\"), OrderedDict{String,Any}(\"key\"=>\"eta_std\",\"val\"=>12,\"id\"=>\"idswN11A0f\")], nothing),\"index\"=>(Observable{Any} with 2 listeners. Value:\n",
       "1, nothing)), Set(String[]), nothing, Any[\"knockout\"=>\"/Users/aschenk/.julia/packages/Knockout/JE2Yq/src/../assets/knockout.js\", \"knockout_punches\"=>\"/Users/aschenk/.julia/packages/Knockout/JE2Yq/src/../assets/knockout_punches.js\", \"/Users/aschenk/.julia/packages/InteractBase/R8JgH/src/../assets/all.js\", \"/Users/aschenk/.julia/packages/InteractBase/R8JgH/src/../assets/style.css\", \"/Users/aschenk/.julia/packages/Interact/0klKX/src/../assets/bulma_confined.min.css\"], Dict{Any,Any}(\"_promises\"=>Dict{Any,Any}(\"importsLoaded\"=>Any[JSString(\"function (ko, koPunches) {\\n    ko.punches.enableAll();\\n    ko.bindingHandlers.numericValue = {\\n        init : function(element, valueAccessor, allBindings, data, context) {\\n            var stringified = ko.observable(ko.unwrap(valueAccessor()));\\n            stringified.subscribe(function(value) {\\n                var val = parseFloat(value);\\n                if (!isNaN(val)) {\\n                    valueAccessor()(val);\\n                }\\n            })\\n            valueAccessor().subscribe(function(value) {\\n                var str = JSON.stringify(value);\\n                if ((str == \\\"0\\\") && ([\\\"-0\\\", \\\"-0.\\\"].indexOf(stringified()) >= 0))\\n                     return;\\n                 if ([\\\"null\\\", \\\"\\\"].indexOf(str) >= 0)\\n                     return;\\n                stringified(str);\\n            })\\n            ko.applyBindingsToNode(element, { value: stringified, valueUpdate: allBindings.get('valueUpdate')}, context);\\n        }\\n    };\\n    var json_data = {\\\"options_js\\\":WebIO.getval({\\\"name\\\":\\\"options_js\\\",\\\"scope\\\":\\\"knockout-component-822b989e-a6c9-4882-b9e1-8c09ec66dedf\\\",\\\"id\\\":\\\"ob_51\\\",\\\"type\\\":\\\"observable\\\"}),\\\"index\\\":WebIO.getval({\\\"name\\\":\\\"index\\\",\\\"scope\\\":\\\"knockout-component-822b989e-a6c9-4882-b9e1-8c09ec66dedf\\\",\\\"id\\\":\\\"ob_50\\\",\\\"type\\\":\\\"observable\\\"})};\\n    var self = this;\\n    function AppViewModel() {\\n        for (var key in json_data) {\\n            var el = json_data[key];\\n            this[key] = Array.isArray(el) ? ko.observableArray(el) : ko.observable(el);\\n        }\\n        [this[\\\"update\\\"]=function (val) {this.index(val)}]\\n        \\n        [this[\\\"options_js\\\"].subscribe((function (val){!(this.valueFromJulia[\\\"options_js\\\"]) ? (WebIO.setval({\\\"name\\\":\\\"options_js\\\",\\\"scope\\\":\\\"knockout-component-822b989e-a6c9-4882-b9e1-8c09ec66dedf\\\",\\\"id\\\":\\\"ob_51\\\",\\\"type\\\":\\\"observable\\\"},val)) : undefined; return this.valueFromJulia[\\\"options_js\\\"]=false}),self),this[\\\"index\\\"].subscribe((function (val){!(this.valueFromJulia[\\\"index\\\"]) ? (WebIO.setval({\\\"name\\\":\\\"index\\\",\\\"scope\\\":\\\"knockout-component-822b989e-a6c9-4882-b9e1-8c09ec66dedf\\\",\\\"id\\\":\\\"ob_50\\\",\\\"type\\\":\\\"observable\\\"},val)) : undefined; return this.valueFromJulia[\\\"index\\\"]=false}),self)]\\n        \\n    }\\n    self.model = new AppViewModel();\\n    self.valueFromJulia = {};\\n    for (var key in json_data) {\\n        self.valueFromJulia[key] = false;\\n    }\\n    ko.applyBindings(self.model, self.dom);\\n}\\n\")]),\"options_js\"=>Any[JSString(\"(function (val){return (val!=this.model[\\\"options_js\\\"]()) ? (this.valueFromJulia[\\\"options_js\\\"]=true, this.model[\\\"options_js\\\"](val)) : undefined})\")],\"index\"=>Any[JSString(\"(function (val){return (val!=this.model[\\\"index\\\"]()) ? (this.valueFromJulia[\\\"index\\\"]=true, this.model[\\\"index\\\"](val)) : undefined})\")]), ConnectionPool(Channel{Any}(sz_max:9223372036854775807,sz_curr:2), Set(AbstractConnection[]), Channel{AbstractConnection}(sz_max:32,sz_curr:0))), Observable{Any} with 0 listeners. Value:\n",
       "Node{DOM}(DOM(:html, :div), Any[Plot{Plots.PlotlyBackend() n=4}], Dict{Symbol,Any}(:className=>\"interact-flex-row interact-widget\"), 1)], Dict{Symbol,Any}(), 12)"
      ]
     },
     "execution_count": 5,
     "metadata": {},
     "output_type": "execute_result"
    }
   ],
   "source": [
    "# Variables of the problem\n",
    "vars = [:J, :doR, :ReD07]\n",
    "\n",
    "# Scaling of every variable\n",
    "scl = Dict()\n",
    "for var in vars\n",
    "    valmax = reduce(max, data; select=var)\n",
    "    valmin = reduce(min, data; select=var)\n",
    "    scl[var] = [valmin, valmax]\n",
    "end    \n",
    "\n",
    "# GUI-enabled plot\n",
    "asd = plotly()\n",
    "\n",
    "# Axes to plot\n",
    "xaxis = :J\n",
    "yaxis = :doR\n",
    "zaxiss = [:normCT_mean, :normCQ_mean, :normeta_mean, \n",
    "            :normCT_std, :normCQ_std, :normeta_std, \n",
    "            :CT_mean, :CQ_mean, :eta_mean, \n",
    "            :CT_std, :CQ_std, :eta_std]\n",
    "\n",
    "axis_labels= Dict(\n",
    "#     :J => L\"Advance ratio $J$\",\n",
    "#     :doR => L\"Separation distance $\\delta$\",\n",
    "#     :ReD07 => L\"Reynolds number $\\mathrm{Re}$\",\n",
    "#     :normCT_mean => L\"Normalized thrust $C_{T,\\mu}$\",\n",
    "#     :normCQ_mean => L\"Normalized torque $C_{Q,\\mu}$\",\n",
    "#     :normCT_std => L\"Normalized thrust fluctuation $C_{T,\\sigma}$\",\n",
    "#     :normCQ_std => L\"Normalized torque fluctuation $C_{T,\\sigma}$\",\n",
    "    :J => \"Advance ratio J\",\n",
    "    :doR => \"Separation δ\",\n",
    "    :ReD07 => \"Reynolds number\",\n",
    "    :normCT_mean => \"Thrust CT\",\n",
    "    :normCQ_mean => \"Torque CQ\",\n",
    "    :normCT_std => \"Thrust fluctuation CT\",\n",
    "    :normCQ_std => \"Torque fluctuation CT\",\n",
    "    )\n",
    "\n",
    "\n",
    "\n",
    "# Standard deviations associated to every zaxis (std, normalize)\n",
    "stdzaxiss = Dict(   :normCT_mean => (:CT_std, (:CT_mean, :CT_mean_ref, :CT_std_ref)),\n",
    "                    :normCQ_mean => (:CQ_std, (:CQ_mean, :CQ_mean_ref, :CQ_std_ref)),\n",
    "                    :normeta_mean => (:eta_std, (:eta_mean, :eta_mean_ref, :eta_std_ref)),\n",
    "                    :CT_mean => (:CT_std, nothing),\n",
    "                    :CQ_mean => (:CQ_std, nothing),\n",
    "                    :eta_mean => (:eta_std, nothing))\n",
    "\n",
    "# Range that considers as negligible interaction\n",
    "negl_rng = 0.0025\n",
    "\n",
    "global first_flag = true\n",
    "\n",
    "# Interactive plot\n",
    "mp = @manipulate for fluctX1e3 in [false, true],\n",
    "                     zeta in [zeta_gauserf, zeta_gaus, zeta_wnklmns, zeta_sing],\n",
    "                     zmin in dropdown(0:0.025:1, value=1, label=\"zmin\"),\n",
    "                     zmax in dropdown(1:0.05:20, value=1, label=\"zmax\"),\n",
    "                     sigma in dropdown(0.25:0.25:15.0, value=8.0, label=\"Smoothing radius\"),\n",
    "                     plot_surface in [true, false],\n",
    "                     actwireframe in [false, true],\n",
    "                     rotor in [1,2],\n",
    "                     corrotating in [false, true],\n",
    "                     Re in [1e5, 5e5, 1e6, 1.5e6], \n",
    "                     zaxis in zaxiss\n",
    "    \n",
    "    global first_flag = true\n",
    "    \n",
    "    xs = []\n",
    "    ys = []\n",
    "    zs = []\n",
    "    \n",
    "    validval(x) = typeof(x) != Missing && x != nothing && !isnan(x)\n",
    "    \n",
    "    function fcritfav(x)\n",
    "        if validval(getfield(x, zaxis)) \n",
    "            return getfield(x, zaxis)>1+negl_rng \n",
    "        else \n",
    "            false \n",
    "        end\n",
    "    end\n",
    "    function fcritnegl(x)\n",
    "        if validval(getfield(x, zaxis)) \n",
    "            return 1-negl_rng<=getfield(x, zaxis)<=1+negl_rng\n",
    "        else \n",
    "            false \n",
    "        end\n",
    "    end\n",
    "    function fcritnega(x)\n",
    "        if validval(getfield(x, zaxis)) \n",
    "            return 1-negl_rng>getfield(x, zaxis)\n",
    "        else \n",
    "            false \n",
    "        end\n",
    "    end\n",
    "    \n",
    "    plotobj = nothing\n",
    "    \n",
    "    \n",
    "    for (lbl, fcrit, clr) in [# Splits the data in different criteria\n",
    "        # Favorable interaction\n",
    "        (\"Favorable\", fcritfav, :green),\n",
    "        # Negligible interaction\n",
    "        (\"Negligible\", fcritnegl, :blue),\n",
    "        # Negative interaction\n",
    "        (\"Negative\", fcritnega, :red) ,\n",
    "                            ]\n",
    "    \n",
    "        # Fetches the data filtered by criterion\n",
    "        fldata = db.filter(i -> (i.corrotating==\"$corrotating\" && i.ReD07==Re\n",
    "                                && i.doR_ref>=2.0 \n",
    "                                && fcrit(i) \n",
    "                                && i.rotor==rotor\n",
    "                                ), data)\n",
    "        \n",
    "        # Data to plot\n",
    "        this_xs = db.select(fldata, xaxis)\n",
    "        this_ys = db.select(fldata, yaxis)\n",
    "        this_zs = db.select(fldata, zaxis)\n",
    "#         this_zs = [z.value for z in this_zs]\n",
    "            \n",
    "        # Selects plot function to use\n",
    "        if first_flag\n",
    "            plotfun = Plots.scatter\n",
    "            global first_flag = false\n",
    "        else\n",
    "            plotfun = Plots.scatter!\n",
    "        end\n",
    "        \n",
    "        optargs = zmin==zmax==1.0 ? [] : [(:zlims, (zmin, zmax))]\n",
    "        \n",
    "        plotobj = plotfun(this_xs, this_ys, this_zs,\n",
    "                xlabel=xaxis in keys(axis_labels) ? axis_labels[xaxis] : string(xaxis),\n",
    "                ylabel=yaxis in keys(axis_labels) ? axis_labels[yaxis] : string(yaxis),\n",
    "                zlabel=zaxis in keys(axis_labels) ? axis_labels[zaxis] : string(zaxis),\n",
    "                        markerstrokealpha = 1.0, label=lbl,\n",
    "                        markersize=2, markeralpha = 1.0, color=clr,\n",
    "                        ; optargs...\n",
    "        )\n",
    "        \n",
    "        # Error bars\n",
    "        if fluctX1e3 && zaxis in keys(stdzaxiss)\n",
    "            std, nrm = stdzaxiss[zaxis]\n",
    "            if nrm!=nothing\n",
    "                stds = 0.001*(db.select(fldata, std)./db.select(fldata, nrm[3])\n",
    "                            )./(db.select(fldata, nrm[1])./db.select(fldata, nrm[2]))\n",
    "            else\n",
    "                stds = db.select(fldata, std)\n",
    "            end\n",
    "            Plots.plot!([x*ones(2) for x in this_xs],\n",
    "                        [y*ones(2) for y in this_ys],\n",
    "                        [z .+ stds[i]*[1,-1] for (i,z) in \n",
    "                                    enumerate(this_zs)], \n",
    "                        color=:black, label=\" \", alpha=0.25)\n",
    "        end\n",
    "        \n",
    "        xs = vcat(xs, this_xs)\n",
    "        ys = vcat(ys, this_ys)\n",
    "        zs = vcat(zs, this_zs)\n",
    "    end\n",
    "    \n",
    "    # Position of every datapoint in this plot (only J and doR are variables)\n",
    "    Np = size(xs, 1)          # Number of datapoints\n",
    "#     Xp = [[xs[i], ys[i]] for i in 1:Np]\n",
    "#     vals = [z for z in zs]\n",
    "    # Scaling is done here\n",
    "    xmn, xmx = scl[xaxis]\n",
    "    ymn, ymx = scl[yaxis]\n",
    "    zmn = reduce(min, data; select=zaxis)\n",
    "    zmx = reduce(max, data; select=zaxis)\n",
    "    Xp = [[(xs[i]-xmn)/(xmx-xmn), \n",
    "           (ys[i]-ymn)/(ymx-ymn)] for i in 1:Np]\n",
    "    vals = [(z-zmn)/(zmx-zmn) for z in zs]\n",
    "    \n",
    "#     Generates radial basis function interpolation\n",
    "    rbf_raw, A = generate_RBF(Xp, vals, zeta; sigmas=sigma)\n",
    "    \n",
    "    # Wrapes the scaled rbf\n",
    "    rbf(X) = rbf_raw([(X[1]-xmn)/(xmx-xmn), \n",
    "                      (X[2]-ymn)/(ymx-ymn)])*(zmx-zmn) + zmn\n",
    "    \n",
    "    if plot_surface\n",
    "        # Surface plot\n",
    "        n = 100\n",
    "        surfx = collect(range(scl[xaxis][1], stop=scl[xaxis][2], length=n))\n",
    "        surfy = collect(range(scl[yaxis][1], stop=scl[yaxis][2], length=n))\n",
    "        surfz = [rbf([x,y]) for y in surfy, x in surfx]\n",
    "        Plots.surface!(surfx, surfy, surfz, alpha=0.8)\n",
    "    #     Plots.wireframe!(surfx, surfy, surfz, alpha=1.0, linewidth=10, c=:blue)\n",
    "\n",
    "        if actwireframe\n",
    "            # Wireframe\n",
    "    #         for (i,x) in enumerate(surfx)\n",
    "    #              Plots.plot!([x for val in surfx], surfy, surfz[i, :], \n",
    "    #                             label=\"\", c=:black, alpha=0.25)\n",
    "    #         end\n",
    "            for (i,y) in enumerate(surfy)\n",
    "                 Plots.plot!(surfx, [y for val in surfy], surfz[i, :], \n",
    "                                label=\"\", c=:black, alpha=0.25)\n",
    "            end\n",
    "        end\n",
    "    end\n",
    "    \n",
    "#     # Calculates RBF error\n",
    "#     rbf_zs = [rbf([xs[i], ys[i]]) for i in 1:size(zs, 1)]\n",
    "#     err = mean(abs.(zs-rbf_zs)./zs)\n",
    "#     title!(\"RBF error = $(round(err*100,3))%\")\n",
    "    \n",
    "    # This is is so that the plot is the last thing it displays\n",
    "#     Plots.plot!([], [], [])\n",
    "    plotobj\n",
    "end"
   ]
  },
  {
   "cell_type": "code",
   "execution_count": null,
   "metadata": {},
   "outputs": [],
   "source": []
  },
  {
   "cell_type": "code",
   "execution_count": null,
   "metadata": {},
   "outputs": [],
   "source": []
  },
  {
   "cell_type": "code",
   "execution_count": null,
   "metadata": {},
   "outputs": [],
   "source": []
  },
  {
   "cell_type": "code",
   "execution_count": null,
   "metadata": {},
   "outputs": [],
   "source": []
  },
  {
   "cell_type": "code",
   "execution_count": null,
   "metadata": {},
   "outputs": [],
   "source": []
  }
 ],
 "metadata": {
  "kernelspec": {
   "display_name": " 1.0.3",
   "language": "julia",
   "name": "-1.0"
  },
  "language_info": {
   "file_extension": ".jl",
   "mimetype": "application/julia",
   "name": "julia",
   "version": "1.0.3"
  }
 },
 "nbformat": 4,
 "nbformat_minor": 2
}
