{
 "cells": [
  {
   "cell_type": "markdown",
   "metadata": {},
   "source": [
    "# Prop-on-prop Surrogate Model"
   ]
  },
  {
   "cell_type": "markdown",
   "metadata": {},
   "source": [
    "## Analysis Functions"
   ]
  },
  {
   "cell_type": "code",
   "execution_count": 1,
   "metadata": {},
   "outputs": [
    {
     "data": {
      "text/plain": [
       "zeta_wnklmns (generic function with 1 method)"
      ]
     },
     "execution_count": 1,
     "metadata": {},
     "output_type": "execute_result"
    }
   ],
   "source": [
    "# Singular kernel\n",
    "zeta_sing(r) = r==0 ? 1 : 0\n",
    "\n",
    "# erf Gaussian kernel\n",
    "zeta_gauserf(r) = 1/(2*pi)^(3/2) * exp(-r^2/2)\n",
    "\n",
    "# Gaussian kernel\n",
    "zeta_gaus(r) = 3/(4*pi)*exp(-r^3)\n",
    "\n",
    "# Winckelmans algebraic kernel\n",
    "zeta_wnklmns(r) = 7.5 / (4*pi) / (r^2 + 1)^3.5"
   ]
  },
  {
   "cell_type": "code",
   "execution_count": 2,
   "metadata": {},
   "outputs": [
    {
     "data": {
      "text/plain": [
       "generate_RBF (generic function with 1 method)"
      ]
     },
     "execution_count": 2,
     "metadata": {},
     "output_type": "execute_result"
    }
   ],
   "source": [
    "using Statistics\n",
    "using LinearAlgebra\n",
    "\n",
    "# Returns a radial basis function interpolation of a field\n",
    "# with values `val` at positions `Xp`. `zeta` is the chosen\n",
    "# basis function\n",
    "function generate_RBF(Xp, val, zeta; sigmas=0.1)\n",
    "    \n",
    "    # ERROR CASES\n",
    "    if size(Xp,1)!=size(val,1)\n",
    "        error(\"size(Xp,1)!=size(val,1)\")\n",
    "    end\n",
    "    \n",
    "    Np = size(Xp, 1)                     # Number of data points\n",
    "    \n",
    "    if size(sigmas)==()\n",
    "        sgms = sigmas*ones(Np)           # Spreading of every basis function\n",
    "    else\n",
    "        sgms = sigmas\n",
    "    end\n",
    "        \n",
    "    # j-th scaled basis evaluated at X\n",
    "    zetasgm(j, X) = zeta(Statistics.norm(X-Xp[j])/sgms[j])/sgms[j]^3\n",
    "     \n",
    "    # Matrix with basis functions evaluated at every point\n",
    "    # Z[i,j] corresponds to the j-th basis evaluated at i-th point\n",
    "    Z = [zetasgm(j, Xi) for Xi in Xp, j in 1:Np]\n",
    "    \n",
    "    # Solves for the alpha coefficients of every basis\n",
    "#     A = Z\\val\n",
    "    A = pinv(Z)*val\n",
    "    \n",
    "    # Generates RBF interpolation function\n",
    "    rbf(X) = sum([A[j]*zetasgm(j, X) for j in 1:Np])\n",
    "    \n",
    "    return rbf, A\n",
    "end"
   ]
  },
  {
   "cell_type": "markdown",
   "metadata": {},
   "source": [
    "## Open Database"
   ]
  },
  {
   "cell_type": "code",
   "execution_count": 6,
   "metadata": {},
   "outputs": [
    {
     "name": "stdout",
     "output_type": "stream",
     "text": [
      "\u001b[32m\u001b[1m Resolving\u001b[22m\u001b[39m package versions...\n",
      "\u001b[32m\u001b[1m Installed\u001b[22m\u001b[39m JuliaDB ─────── v0.11.0\n",
      "\u001b[32m\u001b[1m Installed\u001b[22m\u001b[39m MemPool ─────── v0.2.0\n",
      "\u001b[32m\u001b[1m Installed\u001b[22m\u001b[39m Dagger ──────── v0.8.0\n",
      "\u001b[32m\u001b[1m Installed\u001b[22m\u001b[39m Glob ────────── v1.2.0\n",
      "\u001b[32m\u001b[1m Installed\u001b[22m\u001b[39m IndexedTables ─ v0.10.0\n",
      "\u001b[32m\u001b[1m Installed\u001b[22m\u001b[39m StructArrays ── v0.2.0\n",
      "\u001b[32m\u001b[1m  Updating\u001b[22m\u001b[39m `~/.julia/Project.toml`\n",
      " \u001b[90m [a93385a2]\u001b[39m\u001b[92m + JuliaDB v0.11.0\u001b[39m\n",
      "\u001b[32m\u001b[1m  Updating\u001b[22m\u001b[39m `~/.julia/Manifest.toml`\n",
      " \u001b[90m [944b1d66]\u001b[39m\u001b[92m + CodecZlib v0.5.0\u001b[39m\n",
      " \u001b[90m [d58978e5]\u001b[39m\u001b[92m + Dagger v0.8.0\u001b[39m\n",
      " \u001b[90m [e7dc6d0d]\u001b[39m\u001b[92m + DataValues v0.4.7\u001b[39m\n",
      " \u001b[90m [497a8b3b]\u001b[39m\u001b[92m + DoubleFloats v0.5.4\u001b[39m\n",
      " \u001b[90m [c27321d9]\u001b[39m\u001b[92m + Glob v1.2.0\u001b[39m\n",
      " \u001b[90m [6deec6e2]\u001b[39m\u001b[92m + IndexedTables v0.10.0\u001b[39m\n",
      " \u001b[90m [82899510]\u001b[39m\u001b[92m + IteratorInterfaceExtensions v0.1.1\u001b[39m\n",
      " \u001b[90m [a93385a2]\u001b[39m\u001b[92m + JuliaDB v0.11.0\u001b[39m\n",
      " \u001b[90m [7f8f8fb0]\u001b[39m\u001b[92m + LearnBase v0.2.2\u001b[39m\n",
      " \u001b[90m [30fc2ffe]\u001b[39m\u001b[92m + LossFunctions v0.5.1\u001b[39m\n",
      " \u001b[90m [f9f48841]\u001b[39m\u001b[92m + MemPool v0.2.0\u001b[39m\n",
      " \u001b[90m [4d1e1d77]\u001b[39m\u001b[92m + Nullables v0.0.8\u001b[39m\n",
      " \u001b[90m [a15396b6]\u001b[39m\u001b[92m + OnlineStats v0.20.3\u001b[39m\n",
      " \u001b[90m [925886fa]\u001b[39m\u001b[92m + OnlineStatsBase v0.9.2\u001b[39m\n",
      " \u001b[90m [06bb1623]\u001b[39m\u001b[92m + PenaltyFunctions v0.1.2\u001b[39m\n",
      " \u001b[90m [f27b6e38]\u001b[39m\u001b[92m + Polynomials v0.5.2\u001b[39m\n",
      " \u001b[90m [2dfb63ee]\u001b[39m\u001b[92m + PooledArrays v0.4.1\u001b[39m\n",
      " \u001b[90m [3cdcf5f2]\u001b[39m\u001b[92m + RecipesBase v0.6.0\u001b[39m\n",
      " \u001b[90m [09ab397b]\u001b[39m\u001b[92m + StructArrays v0.2.0\u001b[39m\n",
      " \u001b[90m [7522ee7d]\u001b[39m\u001b[92m + SweepOperator v0.2.0\u001b[39m\n",
      " \u001b[90m [3783bdb8]\u001b[39m\u001b[92m + TableTraits v0.4.1\u001b[39m\n",
      " \u001b[90m [bd369af6]\u001b[39m\u001b[92m + Tables v0.1.15\u001b[39m\n",
      " \u001b[90m [e0df1984]\u001b[39m\u001b[92m + TextParse v0.7.2\u001b[39m\n",
      " \u001b[90m [3bb67fe8]\u001b[39m\u001b[92m + TranscodingStreams v0.8.1\u001b[39m\n",
      " \u001b[90m [ea10d353]\u001b[39m\u001b[92m + WeakRefStrings v0.5.5\u001b[39m\n"
     ]
    }
   ],
   "source": [
    "Pkg.add(\"JuliaDB\")"
   ]
  },
  {
   "cell_type": "code",
   "execution_count": null,
   "metadata": {},
   "outputs": [
    {
     "data": {
      "text/html": [
       "    <script class='js-collapse-script'>\n",
       "        var curMatch =\n",
       "            window.location.href\n",
       "            .match(/(.*?)\\/notebooks\\/.*\\.ipynb/);\n",
       "\n",
       "        curMatch = curMatch ||\n",
       "            window.location.href\n",
       "            .match(/(.*?)\\/apps\\/.*\\.ipynb/);\n",
       "\n",
       "        if ( curMatch ) {\n",
       "            $('head').append('<base href=\"' + curMatch[1] + '/\">');\n",
       "        }\n",
       "    </script>\n"
      ],
      "text/plain": [
       "HTML{String}(\"    <script class='js-collapse-script'>\\n        var curMatch =\\n            window.location.href\\n            .match(/(.*?)\\\\/notebooks\\\\/.*\\\\.ipynb/);\\n\\n        curMatch = curMatch ||\\n            window.location.href\\n            .match(/(.*?)\\\\/apps\\\\/.*\\\\.ipynb/);\\n\\n        if ( curMatch ) {\\n            \\$('head').append('<base href=\\\"' + curMatch[1] + '/\\\">');\\n        }\\n    </script>\\n\")"
      ]
     },
     "metadata": {},
     "output_type": "display_data"
    },
    {
     "data": {
      "text/html": [
       "<script class='js-collapse-script' src='/assetserver/70234be257fdbf3c7a34dd83b4dd818d3f7bd0eb-assets/webio/dist/bundle.js'></script>"
      ],
      "text/plain": [
       "HTML{String}(\"<script class='js-collapse-script' src='/assetserver/70234be257fdbf3c7a34dd83b4dd818d3f7bd0eb-assets/webio/dist/bundle.js'></script>\")"
      ]
     },
     "metadata": {},
     "output_type": "display_data"
    },
    {
     "data": {
      "text/html": [
       "<script class='js-collapse-script' src='/assetserver/70234be257fdbf3c7a34dd83b4dd818d3f7bd0eb-assets/providers/ijulia_setup.js'></script>"
      ],
      "text/plain": [
       "HTML{String}(\"<script class='js-collapse-script' src='/assetserver/70234be257fdbf3c7a34dd83b4dd818d3f7bd0eb-assets/providers/ijulia_setup.js'></script>\")"
      ]
     },
     "metadata": {},
     "output_type": "display_data"
    },
    {
     "data": {
      "text/html": [
       "  <script class='js-collapse-script'>\n",
       "    $('.js-collapse-script').parent('.output_subarea').css('padding', '0');\n",
       "  </script>\n"
      ],
      "text/plain": [
       "HTML{String}(\"  <script class='js-collapse-script'>\\n    \\$('.js-collapse-script').parent('.output_subarea').css('padding', '0');\\n  </script>\\n\")"
      ]
     },
     "metadata": {},
     "output_type": "display_data"
    }
   ],
   "source": [
    "# using Plotly\n",
    "using LaTeXStrings\n",
    "using Interact\n",
    "import JuliaDB\n",
    "# using StatPlots\n",
    "# stplscatter = StatPlots.scatter\n",
    "using Plots\n",
    "db = JuliaDB\n",
    "\n",
    "data = db.loadtable(\"data/sweep_apc10x7_20181126.csv\")"
   ]
  },
  {
   "cell_type": "markdown",
   "metadata": {},
   "source": [
    "## Surrogate Model"
   ]
  },
  {
   "cell_type": "code",
   "execution_count": 5,
   "metadata": {},
   "outputs": [
    {
     "ename": "UndefVarError",
     "evalue": "UndefVarError: data not defined",
     "output_type": "error",
     "traceback": [
      "UndefVarError: data not defined",
      "",
      "Stacktrace:",
      " [1] top-level scope at ./In[5]:7"
     ]
    }
   ],
   "source": [
    "# Variables of the problem\n",
    "vars = [:J, :doR, :ReD07]\n",
    "\n",
    "# Scaling of every variable\n",
    "scl = Dict()\n",
    "for var in vars\n",
    "    valmax = reduce(max, data; select=var)\n",
    "    valmin = reduce(min, data; select=var)\n",
    "    scl[var] = [valmin, valmax]\n",
    "end    \n",
    "\n",
    "# GUI-enabled plot\n",
    "asd = plotly()\n",
    "\n",
    "# Axes to plot\n",
    "xaxis = :J\n",
    "yaxis = :doR\n",
    "zaxiss = [:normCT_mean, :normCQ_mean, :normeta_mean, \n",
    "            :normCT_std, :normCQ_std, :normeta_std, \n",
    "            :CT_mean, :CQ_mean, :eta_mean, \n",
    "            :CT_std, :CQ_std, :eta_std]\n",
    "\n",
    "axis_labels= Dict(\n",
    "#     :J => L\"Advance ratio $J$\",\n",
    "#     :doR => L\"Separation distance $\\delta$\",\n",
    "#     :ReD07 => L\"Reynolds number $\\mathrm{Re}$\",\n",
    "#     :normCT_mean => L\"Normalized thrust $C_{T,\\mu}$\",\n",
    "#     :normCQ_mean => L\"Normalized torque $C_{Q,\\mu}$\",\n",
    "#     :normCT_std => L\"Normalized thrust fluctuation $C_{T,\\sigma}$\",\n",
    "#     :normCQ_std => L\"Normalized torque fluctuation $C_{T,\\sigma}$\",\n",
    "    :J => \"Advance ratio J\",\n",
    "    :doR => \"Separation δ\",\n",
    "    :ReD07 => \"Reynolds number\",\n",
    "    :normCT_mean => \"Thrust CT\",\n",
    "    :normCQ_mean => \"Torque CQ\",\n",
    "    :normCT_std => \"Thrust fluctuation CT\",\n",
    "    :normCQ_std => \"Torque fluctuation CT\",\n",
    "    )\n",
    "\n",
    "\n",
    "\n",
    "# Standard deviations associated to every zaxis (std, normalize)\n",
    "stdzaxiss = Dict(   :normCT_mean => (:CT_std, (:CT_mean, :CT_mean_ref, :CT_std_ref)),\n",
    "                    :normCQ_mean => (:CQ_std, (:CQ_mean, :CQ_mean_ref, :CQ_std_ref)),\n",
    "                    :normeta_mean => (:eta_std, (:eta_mean, :eta_mean_ref, :eta_std_ref)),\n",
    "                    :CT_mean => (:CT_std, nothing),\n",
    "                    :CQ_mean => (:CQ_std, nothing),\n",
    "                    :eta_mean => (:eta_std, nothing))\n",
    "\n",
    "# Range that considers as negligible interaction\n",
    "negl_rng = 0.0025\n",
    "\n",
    "global first_flag = true\n",
    "\n",
    "# Interactive plot\n",
    "mp = @manipulate for fluctX1e3 in [false, true],\n",
    "                     zeta in [zeta_gauserf, zeta_gaus, zeta_wnklmns, zeta_sing],\n",
    "                     zmin in dropdown(0:0.025:1, value=1, label=\"zmin\"),\n",
    "                     zmax in dropdown(1:0.05:20, value=1, label=\"zmax\"),\n",
    "                     sigma in dropdown(0.25:0.25:15.0, value=8.0, label=\"Smoothing radius\"),\n",
    "                     plot_surface in [true, false],\n",
    "                     actwireframe in [false, true],\n",
    "                     rotor in [1,2],\n",
    "                     corrotating in [false, true],\n",
    "                     Re in [1e5, 5e5, 1e6, 1.5e6], \n",
    "                     zaxis in zaxiss\n",
    "    \n",
    "    global first_flag = true\n",
    "    \n",
    "    xs = []\n",
    "    ys = []\n",
    "    zs = []\n",
    "    \n",
    "    validval(x) = typeof(x) != Missing && x != nothing && !isnan(x)\n",
    "    \n",
    "    function fcritfav(x)\n",
    "        if validval(getfield(x, zaxis)) \n",
    "            return getfield(x, zaxis)>1+negl_rng \n",
    "        else \n",
    "            false \n",
    "        end\n",
    "    end\n",
    "    function fcritnegl(x)\n",
    "        if validval(getfield(x, zaxis)) \n",
    "            return 1-negl_rng<=getfield(x, zaxis)<=1+negl_rng\n",
    "        else \n",
    "            false \n",
    "        end\n",
    "    end\n",
    "    function fcritnega(x)\n",
    "        if validval(getfield(x, zaxis)) \n",
    "            return 1-negl_rng>getfield(x, zaxis)\n",
    "        else \n",
    "            false \n",
    "        end\n",
    "    end\n",
    "    \n",
    "    plotobj = nothing\n",
    "    \n",
    "    \n",
    "    for (lbl, fcrit, clr) in [# Splits the data in different criteria\n",
    "        # Favorable interaction\n",
    "        (\"Favorable\", fcritfav, :green),\n",
    "        # Negligible interaction\n",
    "        (\"Negligible\", fcritnegl, :blue),\n",
    "        # Negative interaction\n",
    "        (\"Negative\", fcritnega, :red) ,\n",
    "                            ]\n",
    "    \n",
    "        # Fetches the data filtered by criterion\n",
    "        fldata = db.filter(i -> (i.corrotating==\"$corrotating\" && i.ReD07==Re\n",
    "                                && i.doR_ref>=2.0 \n",
    "                                && fcrit(i) \n",
    "                                && i.rotor==rotor\n",
    "                                ), data)\n",
    "        \n",
    "        # Data to plot\n",
    "        this_xs = db.select(fldata, xaxis)\n",
    "        this_ys = db.select(fldata, yaxis)\n",
    "        this_zs = db.select(fldata, zaxis)\n",
    "#         this_zs = [z.value for z in this_zs]\n",
    "            \n",
    "        # Selects plot function to use\n",
    "        if first_flag\n",
    "            plotfun = Plots.scatter\n",
    "            global first_flag = false\n",
    "        else\n",
    "            plotfun = Plots.scatter!\n",
    "        end\n",
    "        \n",
    "        optargs = zmin==zmax==1.0 ? [] : [(:zlims, (zmin, zmax))]\n",
    "        \n",
    "        plotobj = plotfun(this_xs, this_ys, this_zs,\n",
    "                xlabel=xaxis in keys(axis_labels) ? axis_labels[xaxis] : string(xaxis),\n",
    "                ylabel=yaxis in keys(axis_labels) ? axis_labels[yaxis] : string(yaxis),\n",
    "                zlabel=zaxis in keys(axis_labels) ? axis_labels[zaxis] : string(zaxis),\n",
    "                        markerstrokealpha = 1.0, label=lbl,\n",
    "                        markersize=2, markeralpha = 1.0, color=clr,\n",
    "                        ; optargs...\n",
    "        )\n",
    "        \n",
    "        # Error bars\n",
    "        if fluctX1e3 && zaxis in keys(stdzaxiss)\n",
    "            std, nrm = stdzaxiss[zaxis]\n",
    "            if nrm!=nothing\n",
    "                stds = 0.001*(db.select(fldata, std)./db.select(fldata, nrm[3])\n",
    "                            )./(db.select(fldata, nrm[1])./db.select(fldata, nrm[2]))\n",
    "            else\n",
    "                stds = db.select(fldata, std)\n",
    "            end\n",
    "            Plots.plot!([x*ones(2) for x in this_xs],\n",
    "                        [y*ones(2) for y in this_ys],\n",
    "                        [z .+ stds[i]*[1,-1] for (i,z) in \n",
    "                                    enumerate(this_zs)], \n",
    "                        color=:black, label=\" \", alpha=0.25)\n",
    "        end\n",
    "        \n",
    "        xs = vcat(xs, this_xs)\n",
    "        ys = vcat(ys, this_ys)\n",
    "        zs = vcat(zs, this_zs)\n",
    "    end\n",
    "    \n",
    "    # Position of every datapoint in this plot (only J and doR are variables)\n",
    "    Np = size(xs, 1)          # Number of datapoints\n",
    "#     Xp = [[xs[i], ys[i]] for i in 1:Np]\n",
    "#     vals = [z for z in zs]\n",
    "    # Scaling is done here\n",
    "    xmn, xmx = scl[xaxis]\n",
    "    ymn, ymx = scl[yaxis]\n",
    "    zmn = reduce(min, data; select=zaxis)\n",
    "    zmx = reduce(max, data; select=zaxis)\n",
    "    Xp = [[(xs[i]-xmn)/(xmx-xmn), \n",
    "           (ys[i]-ymn)/(ymx-ymn)] for i in 1:Np]\n",
    "    vals = [(z-zmn)/(zmx-zmn) for z in zs]\n",
    "    \n",
    "#     Generates radial basis function interpolation\n",
    "    rbf_raw, A = generate_RBF(Xp, vals, zeta; sigmas=sigma)\n",
    "    \n",
    "    # Wrapes the scaled rbf\n",
    "    rbf(X) = rbf_raw([(X[1]-xmn)/(xmx-xmn), \n",
    "                      (X[2]-ymn)/(ymx-ymn)])*(zmx-zmn) + zmn\n",
    "    \n",
    "    if plot_surface\n",
    "        # Surface plot\n",
    "        n = 100\n",
    "        surfx = collect(range(scl[xaxis][1], stop=scl[xaxis][2], length=n))\n",
    "        surfy = collect(range(scl[yaxis][1], stop=scl[yaxis][2], length=n))\n",
    "        surfz = [rbf([x,y]) for y in surfy, x in surfx]\n",
    "        Plots.surface!(surfx, surfy, surfz, alpha=0.8)\n",
    "    #     Plots.wireframe!(surfx, surfy, surfz, alpha=1.0, linewidth=10, c=:blue)\n",
    "\n",
    "        if actwireframe\n",
    "            # Wireframe\n",
    "    #         for (i,x) in enumerate(surfx)\n",
    "    #              Plots.plot!([x for val in surfx], surfy, surfz[i, :], \n",
    "    #                             label=\"\", c=:black, alpha=0.25)\n",
    "    #         end\n",
    "            for (i,y) in enumerate(surfy)\n",
    "                 Plots.plot!(surfx, [y for val in surfy], surfz[i, :], \n",
    "                                label=\"\", c=:black, alpha=0.25)\n",
    "            end\n",
    "        end\n",
    "    end\n",
    "    \n",
    "#     # Calculates RBF error\n",
    "#     rbf_zs = [rbf([xs[i], ys[i]]) for i in 1:size(zs, 1)]\n",
    "#     err = mean(abs.(zs-rbf_zs)./zs)\n",
    "#     title!(\"RBF error = $(round(err*100,3))%\")\n",
    "    \n",
    "    # This is is so that the plot is the last thing it displays\n",
    "#     Plots.plot!([], [], [])\n",
    "    plotobj\n",
    "end"
   ]
  }
 ],
 "metadata": {
  "kernelspec": {
   "display_name": "Julia 1.0.0",
   "language": "julia",
   "name": "julia-1.0"
  },
  "language_info": {
   "file_extension": ".jl",
   "mimetype": "application/julia",
   "name": "julia",
   "version": "1.0.3"
  }
 },
 "nbformat": 4,
 "nbformat_minor": 2
}
