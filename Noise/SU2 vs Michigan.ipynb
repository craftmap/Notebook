{
 "cells": [
  {
   "cell_type": "markdown",
   "metadata": {},
   "source": [
    "# Noise\n",
    "\n",
    "\n",
    "\n",
    "# SU2 Noise Code: Zhou\n",
    "- \"To meet stringent noise reduction goals, it is insuffcient to only reduce high-lift and landing gear noise – trailing edge scattering (‘lower bound’) must be reduced.\"\n",
    "- Ffowcs Williams-Hawkings (FW-H) acoustic solver is coupled with CFD solver in SU2\n",
    "- \n",
    "\n",
    "\n",
    "\n",
    "# University of Michigan: Duraisamy\n",
    "- Conference Paper: \"High-Resolution Simulations of Parallel Blade–Vortex Interactions\""
   ]
  }
 ],
 "metadata": {
  "anaconda-cloud": {},
  "kernelspec": {
   "display_name": "Python 3",
   "language": "python",
   "name": "python3"
  },
  "language_info": {
   "codemirror_mode": {
    "name": "ipython",
    "version": 3
   },
   "file_extension": ".py",
   "mimetype": "text/x-python",
   "name": "python",
   "nbconvert_exporter": "python",
   "pygments_lexer": "ipython3",
   "version": "3.7.0"
  }
 },
 "nbformat": 4,
 "nbformat_minor": 1
}
