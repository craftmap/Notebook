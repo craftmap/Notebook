{
 "cells": [
  {
   "cell_type": "markdown",
   "metadata": {},
   "source": [
    "# CFD Section Outline\n",
    "(Why we used CFD?, How we implemented it? What were the results?)\n",
    "## Motivation/ Benefit\n",
    "    - Verify VPM code\n",
    "## Methodology\n",
    "    - Single Propeller\n",
    "    - Double Propeller\n",
    "## Simulation Set up\n",
    "    - All Details\n",
    "    \n",
    "### Adaptive Meshing\n",
    "    - Equation Results\n",
    "    \n",
    "### Spatial/ Temporal Convergence\n",
    "\n",
    "## Results"
   ]
  }
 ],
 "metadata": {
  "kernelspec": {
   "display_name": "Python 3",
   "language": "python",
   "name": "python3"
  },
  "language_info": {
   "codemirror_mode": {
    "name": "ipython",
    "version": 3
   },
   "file_extension": ".py",
   "mimetype": "text/x-python",
   "name": "python",
   "nbconvert_exporter": "python",
   "pygments_lexer": "ipython3",
   "version": "3.7.0"
  }
 },
 "nbformat": 4,
 "nbformat_minor": 2
}
