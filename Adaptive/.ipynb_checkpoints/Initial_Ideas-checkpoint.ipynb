{
 "cells": [
  {
   "cell_type": "markdown",
   "metadata": {},
   "source": [
    "# First Go at Adaptive Mesh Refinement"
   ]
  },
  {
   "cell_type": "markdown",
   "metadata": {
    "collapsed": true
   },
   "source": [
    "## StarCCM+ Implementation Process\n",
    "See https://thesteveportal.plm.automation.siemens.com/articles/en_US/FAQ/MH-4-170\n",
    "\n",
    "1) Create New Field Function\n",
    "\n",
    "2) Create New Table -> XYZ Internal Table\n",
    "\n",
    "3) Geom -> Oper -> Auto Mesh -> Mehsers -> \"Select Mesher\"-> Field Function Refinement Table"
   ]
  },
  {
   "cell_type": "markdown",
   "metadata": {},
   "source": [
    "## Refinement Criterion Ideas\n",
    "Where Grad_V = grad(mag($$Velocity))\n",
    "\n",
    "1) Density gradient magnitued with turbulent kinetic energy\n",
    "\n",
    "2)  $V_{grad} = grad(mag(\\$ \\$ Velocity))$ Vectory Function; \n",
    "\n",
    "$Mesh_{refine} = (mag(\\$ \\$ V_{grad})>1)? 0.0005:15$ Scalar Function\n",
    "\n",
    "<img src=\"img/2.png\" alt=\"pic here\" style=\"width: 800px;\"/>\n",
    "    \n",
    "    - Preimplementation (** Not 10000 its >1)\n",
    "    Current smallest cell 0.05 m\n",
    "    \n",
    "  <img src=\"img/grad_v.png\" alt=\"pic here\" style=\"width: 600px;\"/>\n",
    "  <img src=\"img/refine_2.png\" alt=\"pic here\" style=\"width: 600px;\"/>\n",
    "  <img src=\"img/mesh_before.png\" alt=\"pic here\" style=\"width: 600px;\"/>\n",
    "    - After 1st Implementation .0005 is tooo fine\n",
    "  <img src=\"img/after1.png\" alt=\"pic here\" style=\"width: 600px;\"/>\n",
    "     - Next implementation\n",
    "\\begin{equation}\n",
    "Mesh_{refine} = (mag(\\$ \\$ V_{grad})>1)? 0.02:15\n",
    "\\end{equation}\n",
    "\n",
    "  <img src=\"img/after2.png\" alt=\"pic here\" style=\"width: 600px;\"/>\n",
    " <img src=\"img/grad_v2.png\" alt=\"pic here\" style=\"width: 600px;\"/>\n",
    "  <img src=\"img/refine_22.png\" alt=\"pic here\" style=\"width: 600px;\"/>\n",
    "\n",
    "3) Definition of the Velocity Gradient\n",
    "    $$\\bigtriangledown V = \\frac{V_o-V_i}{l}$$\n",
    "    $$l \\bigtriangledown V = V_o - V_i$$\n",
    "    Divide both sides by Velocity\n",
    "    $$\\frac{l \\bigtriangledown V}{Velocity} = \\frac{V_o - V_i}{Velocity}$$\n",
    "    We know we want the right side above (the percent velocity change across the cell) to be a small percentage. So:\n",
    "    $$\\frac{l \\bigtriangledown V}{Velocity} < .01 $$\n",
    "## Test Implementations\n",
    "\n",
    " <img src=\"img/1.png\" alt=\"pic here\" style=\"width: 800px;\"/>\n",
    "  \n",
    "   <img src=\"img/3.png\" alt=\"pic here\" style=\"width: 800px;\"/>\n",
    "    <img src=\"img/4.png\" alt=\"pic here\" style=\"width: 800px;\"/>"
   ]
  },
  {
   "cell_type": "markdown",
   "metadata": {},
   "source": [
    "# ERROR\n",
    "\n",
    "- The error was with \\$ denoting a scalar and \\$$ denoting a vector\n",
    "- These were some of my initial test that I learned how to apply adaptive mesh refinement with and from which I learned some of the following:\n",
    "    - The refinement criterion automatically needs to scale with the refined mesh so that you dont have to arbitrarily define a new value each iteration.\n",
    "\n",
    "\n",
    "# Final Refinement Criterion Ideas\n",
    "\n",
    "1) Use the definition of Velocity gradient multiplied by a length scale \n",
    "\n",
    "2) Currant Number\n",
    "\n",
    "3) Turbulent Kinetic Energy\n",
    "\n",
    "Example: Magnitude of Density Gradient (See link below)\n",
    "\n",
    "https://thesteveportal.plm.automation.siemens.com/articles/en_US/Video/How-to-create-a-solution-based-mesh-adaption-methodology-for-capturing-shocks\n",
    "## Magnitude of Density Gradient\n",
    "### Rational\n",
    "\n",
    "\n",
    "### Implementation\n",
    "$$ $CellWidth = pow($Volume,1/3) $$\n",
    "\n",
    "$$ $DenGrad = mag(grad($Density))*$CellWidth $$\n",
    "\n",
    "$$ $Refine2 = ($WallDistance<0.02)?0:($DenGrad>0.05)? max($CellWidth/2,0.005):0 $$\n",
    "Where the 0.02 is the boundary layer thickness and 0.005 is the minimum refinement size.\n"
   ]
  }
 ],
 "metadata": {
  "anaconda-cloud": {},
  "kernelspec": {
   "display_name": "Python 3",
   "language": "python",
   "name": "python3"
  },
  "language_info": {
   "codemirror_mode": {
    "name": "ipython",
    "version": 3
   },
   "file_extension": ".py",
   "mimetype": "text/x-python",
   "name": "python",
   "nbconvert_exporter": "python",
   "pygments_lexer": "ipython3",
   "version": "3.7.0"
  }
 },
 "nbformat": 4,
 "nbformat_minor": 1
}
