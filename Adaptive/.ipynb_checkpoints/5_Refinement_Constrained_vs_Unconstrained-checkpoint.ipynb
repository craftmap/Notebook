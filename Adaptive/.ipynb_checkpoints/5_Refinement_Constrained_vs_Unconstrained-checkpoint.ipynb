{
 "cells": [
  {
   "cell_type": "markdown",
   "metadata": {},
   "source": [
    "# Remesh interior\n",
    "## Unconstrained Interior\n",
    "<img src=\"img/Refine.gif\" alt=\"pic here\" style=\"width: 900px;\"/> \n",
    "\n",
    "\n",
    "## Fully Constrained Interior\n",
    "<img src=\"img/Final_Scalar.gif\" alt=\"pic here\" style=\"width: 900px;\"/>\n",
    "<img src=\"img/Final_Mesh.gif\" alt=\"pic here\" style=\"width: 900px;\"/>\n",
    "\n",
    "\n",
    "## Side-by-Side\n",
    "|Constrained Refinement Step 2|Unconstrained Refinement Step 2|\n",
    "|---|---|\n",
    "|<img src=\"img/Final_2_Scalar.png\" alt=\"pic here\" style=\"width: 400px;\"/> |<img src=\"img/Unconstrained_2_Scalar.png\" alt=\"pic here\" style=\"width: 400px;\"/>|\n",
    "\n",
    "|Constrained Refinement Step 4|Unconstrained Refinement Step 4|\n",
    "|---|---|\n",
    "|<img src=\"img/Final_4_Scalar.png\" alt=\"pic here\" style=\"width: 400px;\"/> |<img src=\"img/Unconstrained_4_Scalar.png\" alt=\"pic here\" style=\"width: 400px;\"/>|\n",
    "\n",
    "# Conclusions\n",
    "Even though contraining the interior leads to some holes that must later be repaired. The end result in the mesh is much better. This means in the refinement criterion we always set a the cell size to some value and never to zero (like $CellWidth)."
   ]
  }
 ],
 "metadata": {
  "kernelspec": {
   "display_name": "Python 3",
   "language": "python",
   "name": "python3"
  },
  "language_info": {
   "codemirror_mode": {
    "name": "ipython",
    "version": 3
   },
   "file_extension": ".py",
   "mimetype": "text/x-python",
   "name": "python",
   "nbconvert_exporter": "python",
   "pygments_lexer": "ipython3",
   "version": "3.7.0"
  }
 },
 "nbformat": 4,
 "nbformat_minor": 2
}
