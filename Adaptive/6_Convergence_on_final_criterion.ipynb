{
 "cells": [
  {
   "cell_type": "markdown",
   "metadata": {},
   "source": [
    "# Grid Convergence\n",
    "## Plots\n",
    "<img src=\"img/Thrust_conv.png\" alt=\"pic here\" style=\"width: 500px;\"/>\n",
    "Adaptive results only vary by 3% from 1.90-1.96 N.\n",
    "<img src=\"img/Torque_conv.png\" alt=\"pic here\" style=\"width: 500px;\"/>\n",
    "There is a 9% difference from 0.044 to 0.048.\n",
    "\n",
    "## Images\n",
    "### Adaptive\n",
    "<img src=\"img/Final_Mesh.gif\" alt=\"pic here\" style=\"width: 700px;\"/>\n",
    "### Manual\n",
    "<img src=\"img/Manual_Mesh.gif\" alt=\"pic here\" style=\"width: 700px;\"/>\n",
    "\n",
    "\n",
    "## Values\n",
    "\n",
    "|Step|Element Count|Thrust|Torque|\n",
    "|---|---|---|---|\n",
    "|1\t|835228\t|1.93945569|0.048667872|\n",
    "|2\t|1901234\t|1.905273942|0.047448222|\n",
    "|3\t|3047761\t|1.934149997|0.048244758|\n",
    "|4\t|6643145\t|1.918063357|0.047290877|\n",
    "\n",
    "\n"
   ]
  }
 ],
 "metadata": {
  "kernelspec": {
   "display_name": "Python 3",
   "language": "python",
   "name": "python3"
  },
  "language_info": {
   "codemirror_mode": {
    "name": "ipython",
    "version": 3
   },
   "file_extension": ".py",
   "mimetype": "text/x-python",
   "name": "python",
   "nbconvert_exporter": "python",
   "pygments_lexer": "ipython3",
   "version": "3.7.0"
  }
 },
 "nbformat": 4,
 "nbformat_minor": 2
}
