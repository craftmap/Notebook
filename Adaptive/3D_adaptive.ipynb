{
 "cells": [
  {
   "cell_type": "markdown",
   "metadata": {},
   "source": [
    "# Full Adaptive Application\n",
    "\n",
    "Refinement Critertion:\n",
    "$$($WallDistance<0.00085)?$CellWidth:($LengthGradV>0.6)?$CellWidth/2.0:$CellWidth$$\n",
    "\n",
    "## Freestream Domain (With every cell constrained)\n",
    "#### This must have every cell defined (see above criterion) otherwise refined cells are then unrefined in the next time step because it is a dynamic simultion\n",
    "Before:\n",
    "<img src=\"img/B1.png\" alt=\"pic here\" style=\"width: 500px;\"/>\n",
    "<!---1st Step:\n",
    "<img src=\"img/B2.png\" alt=\"pic here\" style=\"width: 500px;\"/>\n",
    "2nd Step:\n",
    "<img src=\"img/B3.png\" alt=\"pic here\" style=\"width: 500px;\"/>\n",
    "3rd Step:\n",
    "<img src=\"img/B4.png\" alt=\"pic here\" style=\"width: 500px;\"/>-->\n",
    "4th Step:\n",
    "<img src=\"img/B5.png\" alt=\"pic here\" style=\"width: 500px;\"/>\n",
    "\n",
    "\n",
    "\n",
    "## Rotating Domain (With every cell constrained)\n",
    "#### Problem: This takes hours because it is so constrained with every cell width defined\n",
    "Before:\n",
    "<img src=\"img/Rotating_before_CellWidth.png\" alt=\"pic here\" style=\"width: 500px;\"/>\n",
    "1st Step:\n",
    "<img src=\"img/Rotating_after_CellWidth.png\" alt=\"pic here\" style=\"width: 500px;\"/>\n",
    "\n",
    "## Rotating Domain (Without every cell constrained)\n",
    "Refinement Critertion:\n",
    "$$($WallDistance<0.00085)?$CellWidth:($LengthGradV>0.6)?$CellWidth/2.0:0$$\n",
    "#### This went much faster than the constrained case with very similar results\n",
    "Before:\n",
    "<img src=\"img/Rotating_before_CellWidth.png\" alt=\"pic here\" style=\"width: 500px;\"/>\n",
    "1st Step:\n",
    "<img src=\"img/Rotating_after_0.png\" alt=\"pic here\" style=\"width: 500px;\"/>\n",
    "<img src=\"img/rot_1st.png\" alt=\"pic here\" style=\"width: 500px;\"/>\n",
    "2nd Step:\n",
    "<img src=\"img/rot_2nd.png\" alt=\"pic here\" style=\"width: 500px;\"/>\n",
    "LAB MEETING: Try changing mesh coordinate system to be rotating on the interior puck; meet with Dr. Gorrell or one of his students; search Steve-Portal for similar dynamic adaptive meshing examples\n",
    "\n",
    "## Other Error\n",
    "### By constraining the cells in the fluid it causes there to be empty spots with no cells. So we have to leave it unconstrained with 0.\n",
    "<img src=\"img/holes.png\" alt=\"pic here\" style=\"width: 500px;\"/> \n",
    "\n",
    "# FINAL SETUP FOR ADAPTIVE MESHING\n",
    "1) "
   ]
  }
 ],
 "metadata": {
  "kernelspec": {
   "display_name": "Python 3",
   "language": "python",
   "name": "python3"
  },
  "language_info": {
   "codemirror_mode": {
    "name": "ipython",
    "version": 3
   },
   "file_extension": ".py",
   "mimetype": "text/x-python",
   "name": "python",
   "nbconvert_exporter": "python",
   "pygments_lexer": "ipython3",
   "version": "3.7.0"
  }
 },
 "nbformat": 4,
 "nbformat_minor": 2
}
