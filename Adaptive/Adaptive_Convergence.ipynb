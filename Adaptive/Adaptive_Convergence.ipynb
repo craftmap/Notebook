{
 "cells": [
  {
   "cell_type": "markdown",
   "metadata": {},
   "source": [
    "# Convergence Data\n",
    "\n",
    "|Step|Cell Count|Thrust(N)|Torque(N-m)|\n",
    "|---|---|---|---|\n",
    "|Initial|498,149|1.930400613|-0.049245267|\n",
    "\n",
    "## CURRENT REFINEMENTS\n",
    "Convergence_step0.sim Rotating: 0; Fluid: 0\n",
    "\n",
    "Convergence_step1.sim Rotating: 1; Fluid: 1\n",
    "\n",
    "Convergence_step2.sim Rotating: 2; Fluid: 2\n",
    "\n",
    "Convergence_step3.sim Rotating: 3; Fluid: 3\n",
    "\n",
    "\n",
    "Convergence_step4.sim Rotating: 4; Fluid: 1\n",
    "\n",
    "Convergence_step4_no_rotation.sim Rotating: 4; Fluid: 1\n",
    "\n",
    "\n",
    "\n",
    "\n",
    "<img src=\"img/Refine.gif\" alt=\"pic here\" style=\"width: 900px;\"/> \n",
    "\n",
    "## Just the interior \n",
    "\n",
    "<img src=\"img/Rot.gif\" alt=\"pic here\" style=\"width: 900px;\"/> \n",
    "### Camera Views\n",
    "<img src=\"img/Mesh_Camera.png\" alt=\"pic here\" style=\"width: 100px;\"/>  <img src=\"img/Scalar_Camera.png\" alt=\"pic here\" style=\"width: 100px;\"/>\n",
    "\n"
   ]
  }
 ],
 "metadata": {
  "kernelspec": {
   "display_name": "Python 3",
   "language": "python",
   "name": "python3"
  },
  "language_info": {
   "codemirror_mode": {
    "name": "ipython",
    "version": 3
   },
   "file_extension": ".py",
   "mimetype": "text/x-python",
   "name": "python",
   "nbconvert_exporter": "python",
   "pygments_lexer": "ipython3",
   "version": "3.7.0"
  }
 },
 "nbformat": 4,
 "nbformat_minor": 2
}
