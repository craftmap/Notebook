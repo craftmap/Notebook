{
 "cells": [
  {
   "cell_type": "markdown",
   "metadata": {},
   "source": [
    "# Final Refinement Criterion Ideas\n",
    "\n",
    "1) Use the definition of Velocity gradient multiplied by a length scale\n",
    "\n",
    "2) Currant Number\n",
    "\n",
    "3) Turbulent Kinetic Energy\n",
    "\n",
    "Example: Magnitude of Density Gradient (See link below)\n",
    "\n",
    "https://thesteveportal.plm.automation.siemens.com/articles/en_US/Video/How-to-create-a-solution-based-mesh-adaption-methodology-for-capturing-shocks\n",
    "\n"
   ]
  },
  {
   "cell_type": "markdown",
   "metadata": {},
   "source": [
    "## #1 Velocity Gradient\n",
    "### Rational\n",
    "Definition of the Velocity Gradient\n",
    "    $$\\bigtriangledown V = \\frac{V_o-V_i}{l}$$\n",
    "    $$l \\bigtriangledown V = V_o - V_i$$\n",
    "    <!---Divide both sides by Velocity-->\n",
    "    <!---$$\\frac{l \\bigtriangledown V}{Velocity} = \\frac{V_o - V_i}{Velocity}$$-->\n",
    "    We know we want the right side above (the percent velocity change across the cell) to be a small percentage. So:\n",
    "    $$l \\bigtriangledown V < .01 $$\n",
    "### Implementation\n",
    "$$\\$\\$GradV = grad(mag(\\$ \\$ Velocity))$$\n",
    "\n",
    "$$ $CellWidth = pow($Volume,1/3) $$\n",
    "\n",
    "$$\\$LengthGradV = $CellWidth* mag(\\$\\$GradV)$$\n",
    "\n",
    "$$\\$Refine1 = ($LengthGradV>0.1)?$CellWidth/2:$CellWidth$$\n",
    "\n",
    "ERRORS:\n",
    " - Cant set to 0 or the mesher does random stuff, instead set to CellWidth\n",
    " - Max did weird stuff, get rid of for now\n",
    " - Volume in 2D is just the Area of the cell\n",
    "### Results\n",
    "\n",
    "<img src=\"img/refine1.gif\" alt=\"pic here\" style=\"width: 600px;\"/>\n",
    "<img src=\"img/Convergence.png\" alt=\"pic here\" style=\"width: 300px;\"/>\n",
    "\n",
    "CONVERGENCE\n",
    "<img src=\"img/Conv.png\" alt=\"pic here\" style=\"width: 300px;\"/>\n",
    "\n",
    "\n",
    "DO DRAG CONVERGENCE\n",
    "Lift: (24.7589, 26.5604, 27.0094, 27.0369, 27.0392, 27.0904, 27.0865)\n",
    "Cells: (631, 2368, 6582, 14334, 26443, 46083, 68257)\n",
    "\n",
    "BL Size: 0.00085 m"
   ]
  },
  {
   "cell_type": "markdown",
   "metadata": {},
   "source": [
    "## Magnitude of Density Gradient\n",
    "### Rational\n",
    "\n",
    "\n",
    "### Implementation\n",
    "$$ $CellWidth = pow($Volume,1/3) $$\n",
    "\n",
    "$$ $DenGrad = mag(grad($Density))*$CellWidth $$\n",
    "\n",
    "$$ $Refine2 = ($WallDistance<0.02)?0:($DenGrad>0.05)? max($CellWidth/2,0.005):0 $$\n",
    "Where the 0.02 is the boundary layer thickness and 0.005 is the minimum refinement size."
   ]
  }
 ],
 "metadata": {
  "kernelspec": {
   "display_name": "Python 3",
   "language": "python",
   "name": "python3"
  },
  "language_info": {
   "codemirror_mode": {
    "name": "ipython",
    "version": 3
   },
   "file_extension": ".py",
   "mimetype": "text/x-python",
   "name": "python",
   "nbconvert_exporter": "python",
   "pygments_lexer": "ipython3",
   "version": "3.7.0"
  }
 },
 "nbformat": 4,
 "nbformat_minor": 2
}
