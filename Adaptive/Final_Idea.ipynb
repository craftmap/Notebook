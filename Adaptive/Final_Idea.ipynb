{
 "cells": [
  {
   "cell_type": "markdown",
   "metadata": {},
   "source": [
    "\n",
    "# Final Refinement Criterion Implementation\n",
    "(Chosen for simplicity, it is what makes the most sense to refine, there are already examples of basically the same thing on StevePortal, the other ideas are complex and not straight forward.)"
   ]
  },
  {
   "cell_type": "markdown",
   "metadata": {},
   "source": [
    "# Velocity Gradient\n",
    "## Rational\n",
    "Definition of the Velocity Gradient\n",
    "    $$\\bigtriangledown V = \\frac{V_o-V_i}{l}$$\n",
    "    $$l \\bigtriangledown V = V_o - V_i$$\n",
    "    <!---Divide both sides by Velocity-->\n",
    "    <!---$$\\frac{l \\bigtriangledown V}{Velocity} = \\frac{V_o - V_i}{Velocity}$$-->\n",
    "    We know we want the right side above (the percent velocity change across the cell) to be a small percentage. So:\n",
    "    $$l \\bigtriangledown V < .01 $$\n",
    "## Implementation\n",
    "$$\\$\\$GradV = grad(mag(\\$ \\$ Velocity))$$\n",
    "\n",
    "$$ $CellWidth = pow($Volume,1/3) $$\n",
    "\n",
    "$$\\$LengthGradV = $CellWidth* mag(\\$\\$GradV)$$\n",
    "\n",
    "$$\\$Refine1 = ($LengthGradV>0.1)?$CellWidth/2:$CellWidth$$\n",
    "\n",
    "ERRORS:\n",
    " - Cant set to 0 or the mesher does random stuff, instead set to CellWidth\n",
    " - Max did weird stuff, get rid of for now\n",
    " - Volume in 2D is just the Area of the cell\n",
    "## Results\n",
    "\n",
    "<img src=\"img/refine1.gif\" alt=\"pic here\" style=\"width: 600px;\"/>\n",
    "<img src=\"img/Convergence.png\" alt=\"pic here\" style=\"width: 300px;\"/>\n",
    "\n",
    "CONVERGENCE\n",
    "<img src=\"img/Conv.png\" alt=\"pic here\" style=\"width: 300px;\"/>\n",
    "\n",
    "\n",
    "DO DRAG CONVERGENCE\n",
    "Lift: (24.7589, 26.5604, 27.0094, 27.0369, 27.0392, 27.0904, 27.0865)\n",
    "Cells: (631, 2368, 6582, 14334, 26443, 46083, 68257)\n",
    "\n",
    "BL Size: 0.00085 m\n",
    "\n",
    "# Java Script for Iterating Refinement\n",
    "<img src=\"img/LOOP.png\" alt=\"pic here\" style=\"width: 600px;\"/>\n",
    "\n",
    "# 3D Case\n",
    "<img src=\"img/B.png\" alt=\"pic here\" style=\"width: 500px;\"/>\n",
    "<img src=\"img/B5.png\" alt=\"pic here\" style=\"width: 500px;\"/>\n",
    "## Potential Problems\n",
    "- Setting Cell size to 0\n",
    "    - Dr Ning said this was necessary to allow the solver to refine the mesh based on finer results\n",
    "        - Problem is that it is a dynamic simulation and the areas of interest change with rotation of prop. Therefore if we allow the mesher to remesh already refined areas then it will iteratively/periodically refine and then un-refine each area around the radius of rotation.\n",
    "- Tabulating full domain, but only using part\n"
   ]
  },
  {
   "cell_type": "markdown",
   "metadata": {},
   "source": []
  }
 ],
 "metadata": {
  "anaconda-cloud": {},
  "kernelspec": {
   "display_name": "Python [conda root]",
   "language": "python",
   "name": "conda-root-py"
  },
  "language_info": {
   "codemirror_mode": {
    "name": "ipython",
    "version": 2
   },
   "file_extension": ".py",
   "mimetype": "text/x-python",
   "name": "python",
   "nbconvert_exporter": "python",
   "pygments_lexer": "ipython2",
   "version": "2.7.12"
  }
 },
 "nbformat": 4,
 "nbformat_minor": 2
}
