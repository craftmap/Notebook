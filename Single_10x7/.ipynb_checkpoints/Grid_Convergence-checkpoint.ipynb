{
 "cells": [
  {
   "cell_type": "markdown",
   "metadata": {},
   "source": [
    "# General\n",
    "\n",
    "https://documentation.thesteveportal.plm.automation.siemens.com/starccmplus_latest_en/index.html#page/STARCCMP%2FGUID-DFC37503-1D0C-480F-9D36-4DAA821A54B7%3Den%3D.html%23\n",
    "\n",
    "Prism Layers\n",
    "*Proper resolution of the boundary layer is critical. Choose the thickness of the prism layer such that the entire boundary layer is contained within it.\n",
    "*The use of wall functions rather than integrating to the wall can be appropriate depending on several factors, including:\n",
    "◦Desired accuracy\n",
    "◦Relative importance of skin friction drag\n",
    "◦Importance of transition\n",
    "◦Existence/importance of separation/reattachment on smooth boundaries\n",
    "◦For integrating to the wall, 20–30 prism layers are typically used, with the near-wall y+ being of the order 1.\n",
    "◦For wall functions, 5–8 prism layers are typically used, with the near-wall y+ being of the order 50–150.\n",
    "◦When using the Spalart-Allmaras Turbulence model, integrate to the wall (do not use wall functions).\n"
   ]
  },
  {
   "cell_type": "markdown",
   "metadata": {},
   "source": [
    "# Prism Layer Resolution Boundary Layer"
   ]
  },
  {
   "cell_type": "markdown",
   "metadata": {},
   "source": [
    "# Wall Function Resolution of Boundary Layer\n"
   ]
  }
 ],
 "metadata": {
  "kernelspec": {
   "display_name": "Python 3",
   "language": "python",
   "name": "python3"
  },
  "language_info": {
   "codemirror_mode": {
    "name": "ipython",
    "version": 3
   },
   "file_extension": ".py",
   "mimetype": "text/x-python",
   "name": "python",
   "nbconvert_exporter": "python",
   "pygments_lexer": "ipython3",
   "version": "3.7.0"
  }
 },
 "nbformat": 4,
 "nbformat_minor": 2
}
