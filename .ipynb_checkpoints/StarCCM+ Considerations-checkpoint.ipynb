{
 "cells": [
  {
   "cell_type": "markdown",
   "metadata": {},
   "source": [
    "# StarCCM+ Considerations\n",
    "\n",
    "## Adjoint\n",
    "- Only compatible with coupled flow solver (1)\n",
    "\n",
    "References: (1) https://thesteveportal.plm.automation.siemens.com/articles/en_US/FAQ/Is-the-adjoint-solver-compatible-with-the-segregated-solver\n",
    "(2) https://thesteveportal.plm.automation.siemens.com/articles/en_US/FAQ/Spotlight-on-Adjoint\n",
    "\n",
    "\n",
    "## Overset\n",
    "- No, doesnt necesarily work better than slide boundary\n",
    "Reference: CFD CODE VALIDATION OF ROTOR/FUSELAGE INTERACTION USING THE COMMERCIAL SOFTWARE STAR-CCM+8.04\n",
    "\n",
    "\n",
    "## Moving Reference Frame?\n",
    "- Computationally less expensive\n",
    "- Solves the steady state\n",
    "    - Transient flow is not solved for\n",
    "- Less accurate\n",
    "- Not good for interaction between two bodies: Therefore I will not use it\n",
    "Reference: https://thesteveportal.plm.automation.siemens.com/articles/en_US/FAQ/EG-5-029\n",
    "\n"
   ]
  }
 ],
 "metadata": {
  "kernelspec": {
   "display_name": "Python 3",
   "language": "python",
   "name": "python3"
  },
  "language_info": {
   "codemirror_mode": {
    "name": "ipython",
    "version": 3
   },
   "file_extension": ".py",
   "mimetype": "text/x-python",
   "name": "python",
   "nbconvert_exporter": "python",
   "pygments_lexer": "ipython3",
   "version": "3.7.0"
  }
 },
 "nbformat": 4,
 "nbformat_minor": 2
}
