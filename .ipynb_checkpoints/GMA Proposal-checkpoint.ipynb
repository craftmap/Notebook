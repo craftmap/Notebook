{
 "cells": [
  {
   "cell_type": "markdown",
   "metadata": {},
   "source": [
    "# Provided Overview\n",
    "Graduate Mentoring Assistantships\n",
    "College Guidelines | October 30, 2018 \n",
    "The BYU Graduate Studies Office (GSO) supports the Graduate Mentoring Assistantships that are intended to provide funding for graduate students to mentor undergraduate students in scholarly work. Each college has the responsibility to create their own guidelines and deadlines, and to provide a rank ordered list of proposals to the GSO, who then makes final funding decisions. A summary of GSO requirements and guidelines for the Ira A. Fulton College of Engineering are provided below. \n",
    "\n",
    "ELIGIBILITY: Full-time faculty in the Ira A. Fulton College of EngineeringPURPOSESupport graduate students to mentor undergraduates in scholarly work\n",
    "\n",
    "FORMAT: Up to 3 pages plus budget and references\n",
    "\n",
    "PROPOSAL CONTENT: Proposals should include a clear, coherent, concise description of the scholarly project; explain how the award will enable students to deepen their understanding of the truths of their discipline; describe how graduate students will mentor undergraduates; describe how the funds enable the project, and the distinctive features enabled by the funding if done in conjunction with other projects; list expected outcomes, and provide a detailed project budget \n",
    "\n",
    "BUDGET: Up to $15,000 in direct support of the project, including student wages, project-related supplies, and mentoring-relevant travel\n",
    "\n",
    "DURATION: Up to one year from when the funds are awarded\n",
    "\n",
    "DEADLINE: December 1\n",
    "\n",
    "SUBMISSION: Send proposals to Larry Howell, associate dean, at lhowell@byu.edu\n",
    "\n",
    "**PROGRAM SUMMARY**\n",
    "\n",
    "The Graduate Mentoring Assistantships are intended to: \n",
    "- Support scholarship that meets the highest standards and the vision for Inspired Learning articulated by President Worthen\n",
    "- Assist faculty to mentor graduate students who in turn mentor undergraduates\n",
    "- Enable students to participate in extraordinary and even life-changing scholarly projects\n",
    "- Provide students opportunities to demonstrate maturity, initiative and independence"
   ]
  },
  {
   "cell_type": "markdown",
   "metadata": {},
   "source": [
    "# My Project\n",
    "\n",
    "- Description of Project\n",
    "    - Rotor on rotor interactions in forward flght conditions. \n",
    "    - \"What is problem, WHy important? Whats solution and why its impactful. Electric is leading to more \n",
    "    \n",
    "- How award will enable student to deepen understanding (me and undergrads)\n",
    "    - teaching concepts helps solidify them\n",
    "    - Expand the scope of the research to involve more hands on emperical testing\n",
    "    - Experimental design, varience, similarity principles. Fundamental. Validate results compare to Published. Class work doing it for real. Writing a scientifc paper, new \n",
    "\n",
    "- How I will mentor undergraduates (what I do)\n",
    "    - Weekly meeting\n",
    "    - Teaching basics of related material\n",
    "    - Answering questions\n",
    "    - Hands on experience\n",
    "    \n",
    "- How funds enable project and distinctive features enabled by funding\n",
    "    - Working in novel area without established funding pattern. Its a startup buisnesses, cutting edge\n",
    "    ?? No money no project\n",
    "    \n",
    "- Outcomes\n",
    "    - State of the art VPM validation\n",
    "    - Two undergraduates gain hands on experience with new wind tunnel that is reserved exclusivley for research. \n",
    "    - Co-author?\n",
    "    - Produce valuable and novel data for important insights into VTOL performance/noise\n",
    "    - Emperical data to validate MS student CFD and PhD students VPM\n",
    "    \n",
    "- Detailed Budget\n",
    "    - AIAA Partial Travel support\n",
    "    - My wages and undergraduates\n",
    "    \n",
    "    Pictures (Eduardo VPM, windtunnel)\n",
    " - Include Timeline \n",
    "\n",
    "# Dr Ning\n",
    "- Lindsey being able to mentor undergraduate. Coauthor.\n",
    " - 4 K to undergrads. Other 11 k for me. 1 K trasportation. \n",
    " -  Use of new wind tunnel\n",
    " - Mention everything, latex, git, "
   ]
  }
 ],
 "metadata": {
  "kernelspec": {
   "display_name": "Python 3",
   "language": "python",
   "name": "python3"
  },
  "language_info": {
   "codemirror_mode": {
    "name": "ipython",
    "version": 3
   },
   "file_extension": ".py",
   "mimetype": "text/x-python",
   "name": "python",
   "nbconvert_exporter": "python",
   "pygments_lexer": "ipython3",
   "version": "3.7.0"
  }
 },
 "nbformat": 4,
 "nbformat_minor": 2
}
