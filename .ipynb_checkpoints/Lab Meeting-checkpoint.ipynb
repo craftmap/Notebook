{
 "cells": [
  {
   "cell_type": "markdown",
   "metadata": {},
   "source": [
    "# 11/14/18 Proposal Writing Meeting\n",
    "- These are persuasive papers not technical\n",
    "- Government/NSF \n",
    "    - 1st page very important\n",
    "        - Knew knowledge, broad impact"
   ]
  }
 ],
 "metadata": {
  "kernelspec": {
   "display_name": "Python 3",
   "language": "python",
   "name": "python3"
  },
  "language_info": {
   "codemirror_mode": {
    "name": "ipython",
    "version": 3
   },
   "file_extension": ".py",
   "mimetype": "text/x-python",
   "name": "python",
   "nbconvert_exporter": "python",
   "pygments_lexer": "ipython3",
   "version": "3.7.0"
  }
 },
 "nbformat": 4,
 "nbformat_minor": 2
}
