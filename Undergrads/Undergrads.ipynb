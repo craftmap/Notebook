{
 "cells": [
  {
   "cell_type": "markdown",
   "metadata": {},
   "source": [
    "# Undergraduate Researchers\n",
    "\n",
    "<img src=\"img/Test.jpg\" alt=\"pic here\" style=\"width: 400px;\"/>\n",
    "\n",
    "## Juan Cuevas\n",
    "### Contact\n",
    "(801) 368-9381; jac.cuevas77@gmail.com;\n",
    "\n",
    "### Plan \n",
    "- Helped with collecting experimental data\n",
    "- Helped with calibration of equipment\n",
    "\n",
    "- Willing to help more!\n",
    "\n",
    "## Lindsey\n",
    "### Contact\n",
    "??\n",
    "### Plan\n",
    "- Julia: Begin by grabbing data from UIUC and ploting\n",
    "    - Matlab: Grabit\n",
    "- Run \n",
    "    - Single Propeller APC 10x7 thin electric\n",
    "        - Need close agreement with UIUC\n",
    "        \n",
    "- Read\n",
    "    - Prospectus?\n",
    "    - UIUC Paper\n",
    "    - PIV paper\n",
    "    \n",
    "- ME:\n",
    "    - Talk to Kevin about windtunnnel scheduling: jaredeoliphant@gmail.com (Plans to be done by the start of classes)\n",
    "    - Figure out wind tunnel corrections\n",
    "    - APC 10x7; Papers; Current Draw; Purchase?\n"
   ]
  }
 ],
 "metadata": {
  "anaconda-cloud": {},
  "kernelspec": {
   "display_name": "Python [default]",
   "language": "python",
   "name": "python2"
  },
  "language_info": {
   "codemirror_mode": {
    "name": "ipython",
    "version": 2
   },
   "file_extension": ".py",
   "mimetype": "text/x-python",
   "name": "python",
   "nbconvert_exporter": "python",
   "pygments_lexer": "ipython2",
   "version": "2.7.12"
  }
 },
 "nbformat": 4,
 "nbformat_minor": 1
}
